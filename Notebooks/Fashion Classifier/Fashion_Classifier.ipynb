{
 "cells": [
  {
   "cell_type": "code",
   "execution_count": 1,
   "metadata": {},
   "outputs": [
    {
     "name": "stderr",
     "output_type": "stream",
     "text": [
      "Using TensorFlow backend.\n"
     ]
    }
   ],
   "source": [
    "import os, skimage.io,matplotlib.pyplot as plt, numpy as np\n",
    "from sklearn.model_selection import train_test_split\n",
    "from sklearn.model_selection import StratifiedKFold\n",
    "from keras.models import Sequential\n",
    "from keras.layers.core import Dense, Activation\n",
    "from keras.utils import np_utils"
   ]
  },
  {
   "cell_type": "markdown",
   "metadata": {},
   "source": [
    "Loading data from the computer be using data directory path."
   ]
  },
  {
   "cell_type": "code",
   "execution_count": 145,
   "metadata": {},
   "outputs": [],
   "source": [
    "def load_data(data_directory):\n",
    "    directories = [d for d in os .listdir(data_directory) if os.path.isdir(os.path.join(data_directory, d))]\n",
    "    labels = []\n",
    "    images =[]\n",
    "    for d in directories:\n",
    "        label_directory = os.path.join(data_directory, d)\n",
    "        \n",
    "        file_names = [os.path.join(label_directory, f)\n",
    "            for f in os.listdir(label_directory)]\n",
    "        \n",
    "        for f in file_names:\n",
    "            images.append(skimage.io.imread(f))\n",
    "            labels.append(int(d))\n",
    "    return images, labels"
   ]
  },
  {
   "cell_type": "markdown",
   "metadata": {},
   "source": [
    "Read data and divide it into the 2 parts: Training and Testing.\n",
    "The current part is from masos ~/ Documents/FashionData/    "
   ]
  },
  {
   "cell_type": "code",
   "execution_count": 159,
   "metadata": {},
   "outputs": [],
   "source": [
    "train_data_path = os.path.join(os.getcwd(),\"Documents\",\"FashionData\",\"training\")\n",
    "test_data_path = os.path.join(os.getcwd(),\"Documents\",\"FashionData\",\"testing\")\n",
    "images, labels = load_data(train_data_path)\n",
    "test_images,test_labels = load_data(test_data_path)\n",
    "images = np.asarray(images)\n",
    "test_images = np.asarray(test_images)\n",
    "labels = np.asarray(labels)\n",
    "test_labels = np.asarray(test_labels)"
   ]
  },
  {
   "cell_type": "markdown",
   "metadata": {},
   "source": [
    "Divide input data into two training set and testing set. 90% of data will go to training set and 10% will \n",
    "go to testing set."
   ]
  },
  {
   "cell_type": "code",
   "execution_count": 160,
   "metadata": {},
   "outputs": [],
   "source": [
    "train_images,validation_images,train_labels,validation_labels = train_test_split(images, labels, train_size=0.9, \n",
    "                                                                                 test_size=0.1,random_state=0)"
   ]
  },
  {
   "cell_type": "code",
   "execution_count": 99,
   "metadata": {},
   "outputs": [
    {
     "name": "stdout",
     "output_type": "stream",
     "text": [
      "(54000, 28, 28) (54000,) (6000, 28, 28) (6000,) (10000, 28, 28) (10000,)\n"
     ]
    }
   ],
   "source": [
    "print(train_images.shape,train_labels.shape,validation_images.shape,validation_labels.shape,\n",
    "      test_images.shape,test_labels.shape)"
   ]
  },
  {
   "cell_type": "code",
   "execution_count": 100,
   "metadata": {},
   "outputs": [
    {
     "data": {
      "image/png": "[encoded data removed]",
      "text/plain": [
       "<Figure size 432x288 with 4 Axes>"
      ]
     },
     "metadata": {
      "needs_background": "light"
     },
     "output_type": "display_data"
    }
   ],
   "source": [
    "# plot 4 images as grayscale\n",
    "plt.subplot(221)\n",
    "plt.imshow(train_images[0], cmap=plt.get_cmap('gray'))\n",
    "plt.subplot(222)\n",
    "plt.imshow(train_images[1], cmap=plt.get_cmap('gray'))\n",
    "plt.subplot(223)\n",
    "plt.imshow(train_images[2], cmap=plt.get_cmap('gray'))\n",
    "plt.subplot(224)\n",
    "plt.imshow(train_images[3], cmap=plt.get_cmap('gray'))\n",
    "# show the plot\n",
    "plt.show()"
   ]
  },
  {
   "cell_type": "markdown",
   "metadata": {},
   "source": [
    "Pre-procesing the data with scale them 28x28 pixel with the range from 0 to 255."
   ]
  },
  {
   "cell_type": "code",
   "execution_count": 48,
   "metadata": {},
   "outputs": [],
   "source": [
    "num_pixels = train_images.shape[1] * train_images.shape[2]\n",
    "train_images = train_images.reshape(train_images.shape[0],\n",
    "num_pixels).astype('float32')\n",
    "validation_images = validation_images.reshape(validation_images.shape[0],\n",
    "num_pixels).astype('float32')\n",
    "test_images = test_images.reshape(test_images.shape[0], num_pixels).astype('float32')"
   ]
  },
  {
   "cell_type": "code",
   "execution_count": 49,
   "metadata": {},
   "outputs": [],
   "source": [
    "train_images = train_images/255\n",
    "validation_images = validation_images/255\n",
    "test_images = test_images/255"
   ]
  },
  {
   "cell_type": "markdown",
   "metadata": {},
   "source": [
    "Read choosing number of hidden node is at the end of the file.\n",
    "After calculations and cosiderations, the optimal hidden node is 430."
   ]
  },
  {
   "cell_type": "code",
   "execution_count": 50,
   "metadata": {},
   "outputs": [],
   "source": [
    "# less than 10 category and more than 10 using shape 1\n",
    "train_labels = np_utils.to_categorical(train_labels)\n",
    "validation_labels = np_utils.to_categorical(validation_labels)\n",
    "test_labels = np_utils.to_categorical(test_labels)\n",
    "num_classes = train_labels.shape[1]"
   ]
  },
  {
   "cell_type": "code",
   "execution_count": 38,
   "metadata": {},
   "outputs": [],
   "source": [
    "# optimal number of hidden node: 430\n",
    "model = Sequential()\n",
    "model.add(Dense(430, input_dim=num_pixels, activation='relu'))\n",
    "model.add(Dense(num_classes, activation='softmax'))\n",
    "model.compile(loss='categorical_crossentropy', optimizer='adam', metrics=['accuracy'])"
   ]
  },
  {
   "cell_type": "code",
   "execution_count": 21,
   "metadata": {},
   "outputs": [
    {
     "name": "stdout",
     "output_type": "stream",
     "text": [
      "Train on 54000 samples, validate on 6000 samples\n",
      "Epoch 1/10\n",
      "54000/54000 [==============================] - 33s 614us/step - loss: 0.4909 - acc: 0.8255 - val_loss: 0.3929 - val_acc: 0.8582\n",
      "Epoch 2/10\n",
      "54000/54000 [==============================] - 31s 582us/step - loss: 0.3666 - acc: 0.8657 - val_loss: 0.3368 - val_acc: 0.8777\n",
      "Epoch 3/10\n",
      "54000/54000 [==============================] - 30s 560us/step - loss: 0.3263 - acc: 0.8804 - val_loss: 0.3182 - val_acc: 0.8832\n",
      "Epoch 4/10\n",
      "54000/54000 [==============================] - 30s 553us/step - loss: 0.3054 - acc: 0.8860 - val_loss: 0.3037 - val_acc: 0.8900\n",
      "Epoch 5/10\n",
      "54000/54000 [==============================] - 30s 558us/step - loss: 0.2856 - acc: 0.8943 - val_loss: 0.3068 - val_acc: 0.8862\n",
      "Epoch 6/10\n",
      "54000/54000 [==============================] - 31s 568us/step - loss: 0.2690 - acc: 0.9009 - val_loss: 0.3081 - val_acc: 0.8860\n",
      "Epoch 7/10\n",
      "54000/54000 [==============================] - 32s 601us/step - loss: 0.2555 - acc: 0.9047 - val_loss: 0.2999 - val_acc: 0.8885\n",
      "Epoch 8/10\n",
      "54000/54000 [==============================] - 33s 620us/step - loss: 0.2443 - acc: 0.9091 - val_loss: 0.3124 - val_acc: 0.8877\n",
      "Epoch 9/10\n",
      "54000/54000 [==============================] - 31s 568us/step - loss: 0.2342 - acc: 0.9129 - val_loss: 0.3028 - val_acc: 0.8912\n",
      "Epoch 10/10\n",
      "54000/54000 [==============================] - 34s 632us/step - loss: 0.2240 - acc: 0.9162 - val_loss: 0.3217 - val_acc: 0.8877\n"
     ]
    },
    {
     "data": {
      "image/png": "[encoded data removed]",
      "text/plain": [
       "<Figure size 576x432 with 1 Axes>"
      ]
     },
     "metadata": {
      "needs_background": "light"
     },
     "output_type": "display_data"
    },
    {
     "data": {
      "image/png": "[encoded data removed]",
      "text/plain": [
       "<Figure size 576x432 with 1 Axes>"
      ]
     },
     "metadata": {
      "needs_background": "light"
     },
     "output_type": "display_data"
    }
   ],
   "source": [
    "#epochs = 10\n",
    "history = model.fit(train_images, train_labels,\n",
    "validation_data=(validation_images,validation_labels), epochs=10)\n",
    "training_accuracy = history.history['acc']\n",
    "validation_accuracy = history.history['val_acc']\n",
    "training_error = history.history['loss']\n",
    "validation_error = history.history['val_loss']\n",
    "plt.figure(0)\n",
    "plt.plot(training_accuracy,'r')\n",
    "plt.plot(validation_accuracy,'g')\n",
    "plt.xticks(np.arange(0, len(training_accuracy), 2.0))\n",
    "plt.rcParams['figure.figsize'] = (8, 6)\n",
    "plt.xlabel(\"Num of Epochs\")\n",
    "plt.ylabel(\"Accuracy\")\n",
    "plt.title(\"Training Accuracy vs Validation Accuracy\")\n",
    "plt.legend(['train','validation'])\n",
    "plt.figure(1)\n",
    "plt.plot(training_error,'r')\n",
    "plt.plot(validation_error,'g')\n",
    "plt.xticks(np.arange(0, len(training_accuracy), 2.0))\n",
    "plt.rcParams['figure.figsize'] = (8, 6)\n",
    "plt.xlabel(\"Num of Epochs\")\n",
    "plt.ylabel(\"Loss\")\n",
    "plt.title(\"Training Loss vs Validation Loss\")\n",
    "plt.legend(['train','validation'])\n",
    "plt.show()"
   ]
  },
  {
   "cell_type": "markdown",
   "metadata": {},
   "source": [
    "Here is the metrics evaluation for the number of hidden node 430 (optimal)"
   ]
  },
  {
   "cell_type": "code",
   "execution_count": 12,
   "metadata": {},
   "outputs": [
    {
     "name": "stdout",
     "output_type": "stream",
     "text": [
      "MLP Error on test set: 12.53%\n",
      "MLP Accuracy on test set: 87.47%\n"
     ]
    }
   ],
   "source": [
    "scores = model.evaluate(test_images, test_labels, verbose=0)\n",
    "print(\"MLP Error on test set: %.2f%%\" % (100-scores[1]*100))\n",
    "print(\"MLP Accuracy on test set: %.2f%%\" % (scores[1]*100))"
   ]
  },
  {
   "cell_type": "markdown",
   "metadata": {},
   "source": [
    "Using number of hidden node of hidden node 430 to do the Kfold"
   ]
  },
  {
   "cell_type": "code",
   "execution_count": 13,
   "metadata": {},
   "outputs": [
    {
     "name": "stdout",
     "output_type": "stream",
     "text": [
      "acc: 89.22%\n",
      "Cross Validation Accuracy 89.22% (+/- 0.00%)\n",
      "Cross Validation Error 10.78% (+/- 0.00%)\n",
      "MLP Error on test set: 11.59%\n",
      "MLP Accuracy on test set: 88.41%\n",
      "acc: 89.12%\n",
      "Cross Validation Accuracy 89.17% (+/- 0.05%)\n",
      "Cross Validation Error 10.83% (+/- 0.05%)\n",
      "MLP Error on test set: 11.72%\n",
      "MLP Accuracy on test set: 88.28%\n",
      "acc: 88.78%\n",
      "Cross Validation Accuracy 89.04% (+/- 0.19%)\n",
      "Cross Validation Error 10.96% (+/- 0.19%)\n",
      "MLP Error on test set: 12.13%\n",
      "MLP Accuracy on test set: 87.87%\n",
      "acc: 88.83%\n",
      "Cross Validation Accuracy 88.99% (+/- 0.19%)\n",
      "Cross Validation Error 11.01% (+/- 0.19%)\n",
      "MLP Error on test set: 11.97%\n",
      "MLP Accuracy on test set: 88.03%\n",
      "acc: 89.95%\n",
      "Cross Validation Accuracy 89.18% (+/- 0.42%)\n",
      "Cross Validation Error 10.82% (+/- 0.42%)\n",
      "MLP Error on test set: 11.34%\n",
      "MLP Accuracy on test set: 88.66%\n"
     ]
    }
   ],
   "source": [
    "# using estimated optimal number of hidden nodes: 430\n",
    "images = images.reshape(images.shape[0], num_pixels).astype('float32')\n",
    "images = images/255\n",
    "temp_labels = labels\n",
    "labels = np_utils.to_categorical(labels)\n",
    "kfold = StratifiedKFold(n_splits=5, shuffle=True)\n",
    "cv_acc = []\n",
    "cv_error = []\n",
    "for train, test in kfold.split(images, temp_labels):\n",
    "    # create model\n",
    "    model = Sequential()\n",
    "    model.add(Dense(430, input_dim=num_pixels, activation='relu'))\n",
    "    model.add(Dense(num_classes, activation='softmax'))\n",
    "    model.compile(loss='categorical_crossentropy', optimizer='adam',\n",
    "    metrics=['accuracy'])\n",
    "    # Fit the model\n",
    "    model.fit(images[train], labels[train], epochs=10, verbose=0)\n",
    "    # evaluate the model\n",
    "    scores = model.evaluate(images[test], labels[test], verbose=0)\n",
    "    print(\"%s: %.2f%%\" % (model.metrics_names[1], scores[1]*100))\n",
    "    cv_acc.append(scores[1] * 100)\n",
    "    cv_error.append(100-scores[1] * 100)\n",
    "    print(\"Cross Validation Accuracy %.2f%% (+/- %.2f%%)\" % (np.mean(cv_acc),\n",
    "    np.std(cv_acc)))\n",
    "    print(\"Cross Validation Error %.2f%% (+/- %.2f%%)\" % (np.mean(cv_error),\n",
    "    np.std(cv_error)))\n",
    "    scores = model.evaluate(test_images, test_labels, verbose=0)\n",
    "    print(\"MLP Error on test set: %.2f%%\" % (100-scores[1]*100))\n",
    "    print(\"MLP Accuracy on test set: %.2f%%\" % (scores[1]*100))"
   ]
  },
  {
   "cell_type": "code",
   "execution_count": 14,
   "metadata": {},
   "outputs": [],
   "source": [
    "# add description to labels\n",
    "def label_to_description(a):\n",
    "    label_arr = ['T-shirt/top', 'Trouser', 'Pullover', 'Dress', 'Coat', 'Sandal', 'Shirt', 'Sneaker', 'Bag', 'boot']\n",
    "    selectedLabel =''\n",
    "    for index in range (0,10):\n",
    "        if (index == a):\n",
    "            selectedLabel = label_arr[index]\n",
    "            break\n",
    "    return selectedLabel            "
   ]
  },
  {
   "cell_type": "code",
   "execution_count": 24,
   "metadata": {},
   "outputs": [
    {
     "data": {
      "image/png": "[encoded data removed]",
      "text/plain": [
       "<Figure size 576x432 with 1 Axes>"
      ]
     },
     "metadata": {
      "needs_background": "light"
     },
     "output_type": "display_data"
    },
    {
     "data": {
      "image/png": "[encoded data removed]",
      "text/plain": [
       "<Figure size 576x432 with 1 Axes>"
      ]
     },
     "metadata": {
      "needs_background": "light"
     },
     "output_type": "display_data"
    },
    {
     "data": {
      "image/png": "[encoded data removed]",
      "text/plain": [
       "<Figure size 576x432 with 1 Axes>"
      ]
     },
     "metadata": {
      "needs_background": "light"
     },
     "output_type": "display_data"
    },
    {
     "data": {
      "image/png": "[encoded data removed]",
      "text/plain": [
       "<Figure size 576x432 with 1 Axes>"
      ]
     },
     "metadata": {
      "needs_background": "light"
     },
     "output_type": "display_data"
    }
   ],
   "source": [
    "#test model\n",
    "import random\n",
    "for index in range (0,4):\n",
    "    image_index = random.randint(0,test_images.shape[0])\n",
    "    random_image = test_images[image_index]\n",
    "    random_label = model.predict(random_image.reshape(1,random_image.shape[0])).argmax(axis=-1)\n",
    "    plt.subplot(211)\n",
    "    plt.imshow(random_image.reshape(28,28), cmap=plt.get_cmap('gray'))\n",
    "    label_des = label_to_description(random_label)\n",
    "    plt.title(\"Predicted Category: \"+str(label_des))\n",
    "    plt.show()\n"
   ]
  },
  {
   "cell_type": "markdown",
   "metadata": {},
   "source": [
    "Change number of Hidden node to see which is the optimal hidden node\n",
    "the selected number are 78, 254, 430, 606,748"
   ]
  },
  {
   "cell_type": "markdown",
   "metadata": {},
   "source": [
    "Summary the model"
   ]
  },
  {
   "cell_type": "code",
   "execution_count": 16,
   "metadata": {},
   "outputs": [
    {
     "name": "stdout",
     "output_type": "stream",
     "text": [
      "_________________________________________________________________\n",
      "Layer (type)                 Output Shape              Param #   \n",
      "=================================================================\n",
      "dense_11 (Dense)             (None, 430)               337550    \n",
      "_________________________________________________________________\n",
      "dense_12 (Dense)             (None, 10)                4310      \n",
      "=================================================================\n",
      "Total params: 341,860\n",
      "Trainable params: 341,860\n",
      "Non-trainable params: 0\n",
      "_________________________________________________________________\n"
     ]
    }
   ],
   "source": [
    "model.summary()"
   ]
  },
  {
   "cell_type": "code",
   "execution_count": 17,
   "metadata": {
    "scrolled": true
   },
   "outputs": [
    {
     "name": "stdout",
     "output_type": "stream",
     "text": [
      "Train on 54000 samples, validate on 6000 samples\n",
      "Epoch 1/10\n",
      "54000/54000 [==============================] - 16s 305us/step - loss: 0.5295 - acc: 0.8167 - val_loss: 0.3926 - val_acc: 0.8652\n",
      "Epoch 2/10\n",
      "54000/54000 [==============================] - 16s 295us/step - loss: 0.3981 - acc: 0.8583 - val_loss: 0.3686 - val_acc: 0.8700\n",
      "Epoch 3/10\n",
      "54000/54000 [==============================] - 16s 290us/step - loss: 0.3561 - acc: 0.8727 - val_loss: 0.3636 - val_acc: 0.8667\n",
      "Epoch 4/10\n",
      "54000/54000 [==============================] - 15s 284us/step - loss: 0.3317 - acc: 0.8796 - val_loss: 0.3294 - val_acc: 0.8820\n",
      "Epoch 5/10\n",
      "54000/54000 [==============================] - 15s 283us/step - loss: 0.3126 - acc: 0.8871 - val_loss: 0.3380 - val_acc: 0.8778\n",
      "Epoch 6/10\n",
      "54000/54000 [==============================] - 15s 281us/step - loss: 0.3002 - acc: 0.8894 - val_loss: 0.3227 - val_acc: 0.8837\n",
      "Epoch 7/10\n",
      "54000/54000 [==============================] - 15s 282us/step - loss: 0.2862 - acc: 0.8943 - val_loss: 0.3391 - val_acc: 0.8792\n",
      "Epoch 8/10\n",
      "54000/54000 [==============================] - 15s 281us/step - loss: 0.2766 - acc: 0.8970 - val_loss: 0.3217 - val_acc: 0.8835\n",
      "Epoch 9/10\n",
      "54000/54000 [==============================] - 16s 288us/step - loss: 0.2649 - acc: 0.9015 - val_loss: 0.3027 - val_acc: 0.8922\n",
      "Epoch 10/10\n",
      "54000/54000 [==============================] - 15s 287us/step - loss: 0.2590 - acc: 0.9030 - val_loss: 0.3106 - val_acc: 0.8877\n",
      "Testing on number of hidden node: 78\n",
      "Train on 54000 samples, validate on 6000 samples\n",
      "Epoch 1/10\n",
      "54000/54000 [==============================] - 21s 387us/step - loss: 0.4884 - acc: 0.8284 - val_loss: 0.3782 - val_acc: 0.8663\n",
      "Epoch 2/10\n",
      "54000/54000 [==============================] - 20s 379us/step - loss: 0.3686 - acc: 0.8657 - val_loss: 0.3331 - val_acc: 0.8783\n",
      "Epoch 3/10\n",
      "54000/54000 [==============================] - 21s 395us/step - loss: 0.3298 - acc: 0.8786 - val_loss: 0.3282 - val_acc: 0.8823\n",
      "Epoch 4/10\n",
      "54000/54000 [==============================] - 22s 400us/step - loss: 0.3091 - acc: 0.8853 - val_loss: 0.3031 - val_acc: 0.8852\n",
      "Epoch 5/10\n",
      "54000/54000 [==============================] - 22s 406us/step - loss: 0.2888 - acc: 0.8929 - val_loss: 0.3273 - val_acc: 0.8825\n",
      "Epoch 6/10\n",
      "54000/54000 [==============================] - 21s 382us/step - loss: 0.2730 - acc: 0.8987 - val_loss: 0.3024 - val_acc: 0.8887\n",
      "Epoch 7/10\n",
      "54000/54000 [==============================] - 20s 368us/step - loss: 0.2608 - acc: 0.9035 - val_loss: 0.2946 - val_acc: 0.8938\n",
      "Epoch 8/10\n",
      "54000/54000 [==============================] - 21s 395us/step - loss: 0.2494 - acc: 0.9071 - val_loss: 0.2978 - val_acc: 0.8915\n",
      "Epoch 9/10\n",
      "54000/54000 [==============================] - 21s 389us/step - loss: 0.2381 - acc: 0.9110 - val_loss: 0.2850 - val_acc: 0.8948\n",
      "Epoch 10/10\n",
      "54000/54000 [==============================] - 22s 406us/step - loss: 0.2297 - acc: 0.9143 - val_loss: 0.2948 - val_acc: 0.8935\n",
      "Testing on number of hidden node: 254\n",
      "Train on 54000 samples, validate on 6000 samples\n",
      "Epoch 1/10\n",
      "54000/54000 [==============================] - 32s 592us/step - loss: 0.4859 - acc: 0.8269 - val_loss: 0.4287 - val_acc: 0.8450\n",
      "Epoch 2/10\n",
      "54000/54000 [==============================] - 31s 582us/step - loss: 0.3658 - acc: 0.8674 - val_loss: 0.3865 - val_acc: 0.8592\n",
      "Epoch 3/10\n",
      "54000/54000 [==============================] - 32s 601us/step - loss: 0.3282 - acc: 0.8795 - val_loss: 0.3074 - val_acc: 0.8868\n",
      "Epoch 4/10\n",
      "54000/54000 [==============================] - 31s 567us/step - loss: 0.3048 - acc: 0.8876 - val_loss: 0.3314 - val_acc: 0.8842\n",
      "Epoch 5/10\n",
      "54000/54000 [==============================] - 32s 597us/step - loss: 0.2867 - acc: 0.8922 - val_loss: 0.2902 - val_acc: 0.8973\n",
      "Epoch 6/10\n",
      "54000/54000 [==============================] - 32s 602us/step - loss: 0.2700 - acc: 0.8991 - val_loss: 0.3238 - val_acc: 0.8822\n",
      "Epoch 7/10\n",
      "54000/54000 [==============================] - 32s 587us/step - loss: 0.2564 - acc: 0.9048 - val_loss: 0.2980 - val_acc: 0.8910\n",
      "Epoch 8/10\n",
      "54000/54000 [==============================] - 32s 595us/step - loss: 0.2447 - acc: 0.9092 - val_loss: 0.3042 - val_acc: 0.8872\n",
      "Epoch 9/10\n",
      "54000/54000 [==============================] - 34s 623us/step - loss: 0.2340 - acc: 0.9119 - val_loss: 0.3001 - val_acc: 0.8905\n",
      "Epoch 10/10\n",
      "54000/54000 [==============================] - 31s 577us/step - loss: 0.2253 - acc: 0.9162 - val_loss: 0.3024 - val_acc: 0.8933\n",
      "Testing on number of hidden node: 430\n",
      "Train on 54000 samples, validate on 6000 samples\n",
      "Epoch 1/10\n",
      "54000/54000 [==============================] - 41s 767us/step - loss: 0.4824 - acc: 0.8283 - val_loss: 0.3682 - val_acc: 0.8618\n",
      "Epoch 2/10\n",
      "54000/54000 [==============================] - 41s 753us/step - loss: 0.3647 - acc: 0.8692 - val_loss: 0.3710 - val_acc: 0.8672\n",
      "Epoch 3/10\n",
      "54000/54000 [==============================] - 41s 750us/step - loss: 0.3273 - acc: 0.8800 - val_loss: 0.3328 - val_acc: 0.8760\n",
      "Epoch 4/10\n",
      "54000/54000 [==============================] - 42s 781us/step - loss: 0.3032 - acc: 0.8882 - val_loss: 0.3029 - val_acc: 0.8883\n",
      "Epoch 5/10\n",
      "54000/54000 [==============================] - 44s 807us/step - loss: 0.2824 - acc: 0.8949 - val_loss: 0.3014 - val_acc: 0.8860\n",
      "Epoch 6/10\n",
      "54000/54000 [==============================] - 42s 784us/step - loss: 0.2667 - acc: 0.9007 - val_loss: 0.3078 - val_acc: 0.8903\n",
      "Epoch 7/10\n",
      "54000/54000 [==============================] - 41s 767us/step - loss: 0.2537 - acc: 0.9053 - val_loss: 0.3232 - val_acc: 0.8875\n",
      "Epoch 8/10\n",
      "54000/54000 [==============================] - 41s 768us/step - loss: 0.2449 - acc: 0.9071 - val_loss: 0.3099 - val_acc: 0.8843\n",
      "Epoch 9/10\n",
      "54000/54000 [==============================] - 42s 784us/step - loss: 0.2310 - acc: 0.9137 - val_loss: 0.3351 - val_acc: 0.8860\n",
      "Epoch 10/10\n",
      "54000/54000 [==============================] - 44s 815us/step - loss: 0.2222 - acc: 0.9164 - val_loss: 0.3025 - val_acc: 0.8895\n",
      "Testing on number of hidden node: 606\n",
      "Train on 54000 samples, validate on 6000 samples\n",
      "Epoch 1/10\n",
      "54000/54000 [==============================] - 51s 953us/step - loss: 0.4819 - acc: 0.8288 - val_loss: 0.3758 - val_acc: 0.8675\n",
      "Epoch 2/10\n",
      "54000/54000 [==============================] - 50s 928us/step - loss: 0.3631 - acc: 0.8665 - val_loss: 0.3379 - val_acc: 0.8738\n",
      "Epoch 3/10\n",
      "54000/54000 [==============================] - 49s 899us/step - loss: 0.3289 - acc: 0.8783 - val_loss: 0.3083 - val_acc: 0.8878\n",
      "Epoch 4/10\n",
      "54000/54000 [==============================] - 52s 970us/step - loss: 0.3028 - acc: 0.8883 - val_loss: 0.3078 - val_acc: 0.8852\n",
      "Epoch 5/10\n",
      "54000/54000 [==============================] - 53s 973us/step - loss: 0.2838 - acc: 0.8944 - val_loss: 0.3163 - val_acc: 0.8837\n",
      "Epoch 6/10\n",
      "54000/54000 [==============================] - 52s 957us/step - loss: 0.2670 - acc: 0.9001 - val_loss: 0.3199 - val_acc: 0.8828\n",
      "Epoch 7/10\n",
      "54000/54000 [==============================] - 50s 918us/step - loss: 0.2549 - acc: 0.9046 - val_loss: 0.2967 - val_acc: 0.8905\n",
      "Epoch 8/10\n",
      "54000/54000 [==============================] - 49s 906us/step - loss: 0.2422 - acc: 0.9084 - val_loss: 0.3135 - val_acc: 0.8902\n",
      "Epoch 9/10\n",
      "54000/54000 [==============================] - 49s 914us/step - loss: 0.2316 - acc: 0.9135 - val_loss: 0.3038 - val_acc: 0.8913\n",
      "Epoch 10/10\n",
      "54000/54000 [==============================] - 52s 954us/step - loss: 0.2225 - acc: 0.9165 - val_loss: 0.3168 - val_acc: 0.8925\n",
      "Testing on number of hidden node: 748\n"
     ]
    }
   ],
   "source": [
    "import statistics\n",
    "train_list = []\n",
    "val_list = []\n",
    "node_list = []\n",
    "number_hidden_note = [78, 254, 430, 606,748]\n",
    "for index in number_hidden_note:\n",
    "    print\n",
    "    model = Sequential()\n",
    "    model.add(Dense(index, input_dim=num_pixels, activation='relu'))\n",
    "    model.add(Dense(num_classes, activation='softmax'))\n",
    "    model.compile(loss='categorical_crossentropy', optimizer='adam', metrics=['accuracy'])\n",
    "    history = model.fit(train_images, train_labels,\n",
    "    validation_data=(validation_images,validation_labels), epochs=10)\n",
    "    training_accuracy = history.history['acc']\n",
    "    validation_accuracy = history.history['val_acc']\n",
    "    training_error = history.history['loss']\n",
    "    validation_error = history.history['val_loss']\n",
    "    print(\"Testing on number of hidden node: \" +str(index))\n",
    "    train_acc = statistics.mean(training_accuracy)\n",
    "    val_acc = statistics.mean(validation_accuracy)\n",
    "    train_list.append(train_acc)\n",
    "    val_list.append(val_acc)\n",
    "    node_list.append(index)\n"
   ]
  },
  {
   "cell_type": "markdown",
   "metadata": {},
   "source": [
    "Format the output"
   ]
  },
  {
   "cell_type": "code",
   "execution_count": 19,
   "metadata": {},
   "outputs": [
    {
     "name": "stdout",
     "output_type": "stream",
     "text": [
      "Train Acc\t\tValidate Acc\t\tNumber of Node \n",
      "0.87996\t\t\t0.87878\t\t\t78\n",
      "0.88855\t\t\t0.88570\t\t\t254\n",
      "0.88949\t\t\t0.88167\t\t\t430\n",
      "0.89037\t\t\t0.88170\t\t\t606\n",
      "0.88995\t\t\t0.88453\t\t\t748\n"
     ]
    }
   ],
   "source": [
    "print(\"Train Acc\\t\\tValidate Acc\\t\\tNumber of Node \")\n",
    "\n",
    "for x, y, z in zip(train_list, val_list, node_list):\n",
    "    print(\"%.5f\" % x,\"%.5f\" %  y, z, sep='\\t\\t\\t')"
   ]
  },
  {
   "cell_type": "markdown",
   "metadata": {},
   "source": [
    "Apply on the test set to check the performance."
   ]
  },
  {
   "cell_type": "markdown",
   "metadata": {
    "scrolled": true
   },
   "source": [
    "Now we use the model on the test folder known as unseen data."
   ]
  },
  {
   "cell_type": "code",
   "execution_count": 161,
   "metadata": {},
   "outputs": [],
   "source": [
    "train_images,validation_images,train_labels,validation_labels = train_test_split(test_images, test_labels, train_size=0.9, \n",
    "                                                                                 test_size=0.1,random_state=0)"
   ]
  },
  {
   "cell_type": "code",
   "execution_count": 162,
   "metadata": {},
   "outputs": [
    {
     "name": "stdout",
     "output_type": "stream",
     "text": [
      "(9000, 28, 28) (9000,) (1000, 28, 28) (1000,) (10000, 28, 28) (10000,)\n"
     ]
    }
   ],
   "source": [
    "# Size is different on test set, smaller.\n",
    "print(train_images.shape,train_labels.shape,validation_images.shape,validation_labels.shape,\n",
    "      test_images.shape,test_labels.shape)"
   ]
  },
  {
   "cell_type": "code",
   "execution_count": 163,
   "metadata": {},
   "outputs": [
    {
     "data": {
      "image/png": "[encoded data removed]",
      "text/plain": [
       "<Figure size 432x288 with 4 Axes>"
      ]
     },
     "metadata": {
      "needs_background": "light"
     },
     "output_type": "display_data"
    }
   ],
   "source": [
    "# plot 4 images as grayscale\n",
    "plt.subplot(221)\n",
    "plt.imshow(train_images[0], cmap=plt.get_cmap('gray'))\n",
    "plt.subplot(222)\n",
    "plt.imshow(train_images[1], cmap=plt.get_cmap('gray'))\n",
    "plt.subplot(223)\n",
    "plt.imshow(train_images[2], cmap=plt.get_cmap('gray'))\n",
    "plt.subplot(224)\n",
    "plt.imshow(train_images[3], cmap=plt.get_cmap('gray'))\n",
    "# show the plot\n",
    "plt.show()"
   ]
  },
  {
   "cell_type": "code",
   "execution_count": 164,
   "metadata": {},
   "outputs": [],
   "source": [
    "num_pixels = train_images.shape[1] * train_images.shape[2]\n",
    "train_images = train_images.reshape(train_images.shape[0],\n",
    "num_pixels).astype('float32')\n",
    "validation_images = validation_images.reshape(validation_images.shape[0],\n",
    "num_pixels).astype('float32')\n",
    "test_images = test_images.reshape(test_images.shape[0], num_pixels).astype('float32')"
   ]
  },
  {
   "cell_type": "code",
   "execution_count": 165,
   "metadata": {},
   "outputs": [],
   "source": [
    "train_images = train_images/255\n",
    "validation_images = validation_images/255\n",
    "test_images = test_images/255"
   ]
  },
  {
   "cell_type": "code",
   "execution_count": 166,
   "metadata": {},
   "outputs": [],
   "source": [
    "# less than 10 category and more than 10 using shape 1\n",
    "train_labels = np_utils.to_categorical(train_labels)\n",
    "validation_labels = np_utils.to_categorical(validation_labels)\n",
    "test_labels = np_utils.to_categorical(test_labels)\n",
    "num_classes = train_labels.shape[1]"
   ]
  },
  {
   "cell_type": "code",
   "execution_count": 169,
   "metadata": {},
   "outputs": [
    {
     "name": "stdout",
     "output_type": "stream",
     "text": [
      "acc: 89.24%\n",
      "Cross Validation Accuracy 89.24% (+/- 0.00%)\n",
      "Cross Validation Error 10.76% (+/- 0.00%)\n",
      "MLP Error on test set: 11.19%\n",
      "MLP Accuracy on test set: 88.81%\n",
      "acc: 88.88%\n",
      "Cross Validation Accuracy 89.06% (+/- 0.18%)\n",
      "Cross Validation Error 10.94% (+/- 0.18%)\n",
      "MLP Error on test set: 11.65%\n",
      "MLP Accuracy on test set: 88.35%\n",
      "acc: 89.48%\n",
      "Cross Validation Accuracy 89.20% (+/- 0.24%)\n",
      "Cross Validation Error 10.80% (+/- 0.24%)\n",
      "MLP Error on test set: 11.64%\n",
      "MLP Accuracy on test set: 88.36%\n",
      "acc: 88.46%\n",
      "Cross Validation Accuracy 89.01% (+/- 0.38%)\n",
      "Cross Validation Error 10.99% (+/- 0.38%)\n",
      "MLP Error on test set: 12.42%\n",
      "MLP Accuracy on test set: 87.58%\n",
      "acc: 87.52%\n",
      "Cross Validation Accuracy 88.72% (+/- 0.69%)\n",
      "Cross Validation Error 11.28% (+/- 0.69%)\n",
      "MLP Error on test set: 13.11%\n",
      "MLP Accuracy on test set: 86.89%\n"
     ]
    }
   ],
   "source": [
    "# using estimated optimal number of hidden nodes: 430 in test data set.\n",
    "images = images.reshape(images.shape[0], num_pixels).astype('float32')\n",
    "images = images/255\n",
    "temp_labels = labels\n",
    "labels = np_utils.to_categorical(labels)\n",
    "kfold = StratifiedKFold(n_splits=5, shuffle=True)\n",
    "cv_acc = []\n",
    "cv_error = []\n",
    "for train, test in kfold.split(images, temp_labels):\n",
    "    # create model\n",
    "    model = Sequential()\n",
    "    model.add(Dense(430, input_dim=num_pixels, activation='relu'))\n",
    "    model.add(Dense(num_classes, activation='softmax'))\n",
    "    model.compile(loss='categorical_crossentropy', optimizer='adam',\n",
    "    metrics=['accuracy'])\n",
    "    # Fit the model\n",
    "    model.fit(images[train], labels[train], epochs=10, verbose=0)\n",
    "    # evaluate the model\n",
    "    scores = model.evaluate(images[test], labels[test], verbose=0)\n",
    "    print(\"%s: %.2f%%\" % (model.metrics_names[1], scores[1]*100))\n",
    "    cv_acc.append(scores[1] * 100)\n",
    "    cv_error.append(100-scores[1] * 100)\n",
    "    print(\"Cross Validation Accuracy %.2f%% (+/- %.2f%%)\" % (np.mean(cv_acc),\n",
    "    np.std(cv_acc)))\n",
    "    print(\"Cross Validation Error %.2f%% (+/- %.2f%%)\" % (np.mean(cv_error),\n",
    "    np.std(cv_error)))\n",
    "    scores = model.evaluate(test_images, test_labels, verbose=0)\n",
    "    print(\"MLP Error on test set: %.2f%%\" % (100-scores[1]*100))\n",
    "    print(\"MLP Accuracy on test set: %.2f%%\" % (scores[1]*100))"
   ]
  },
  {
   "cell_type": "code",
   "execution_count": null,
   "metadata": {},
   "outputs": [],
   "source": []
  },
  {
   "cell_type": "code",
   "execution_count": null,
   "metadata": {},
   "outputs": [],
   "source": []
  }
 ],
 "metadata": {
  "kernelspec": {
   "display_name": "Python 3",
   "language": "python",
   "name": "python3"
  },
  "language_info": {
   "codemirror_mode": {
    "name": "ipython",
    "version": 3
   },
   "file_extension": ".py",
   "mimetype": "text/x-python",
   "name": "python",
   "nbconvert_exporter": "python",
   "pygments_lexer": "ipython3",
   "version": "3.7.6"
  }
 },
 "nbformat": 4,
 "nbformat_minor": 2
}
