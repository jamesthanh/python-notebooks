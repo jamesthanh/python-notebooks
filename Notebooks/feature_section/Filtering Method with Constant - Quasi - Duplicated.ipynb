{
 "cells": [
  {
   "cell_type": "code",
   "execution_count": 1,
   "metadata": {},
   "outputs": [],
   "source": [
    "import numpy as np\n",
    "import pandas as pd\n",
    "import matplotlib.pyplot as plt\n",
    "import seaborn as sns"
   ]
  },
  {
   "cell_type": "code",
   "execution_count": 2,
   "metadata": {},
   "outputs": [],
   "source": [
    "from sklearn.model_selection import train_test_split\n",
    "from sklearn.ensemble import RandomForestClassifier\n",
    "from sklearn.metrics import accuracy_score\n",
    "from sklearn.feature_selection import VarianceThreshold"
   ]
  },
  {
   "cell_type": "code",
   "execution_count": 3,
   "metadata": {},
   "outputs": [
    {
     "data": {
      "text/html": [
       "<div>\n",
       "<style scoped>\n",
       "    .dataframe tbody tr th:only-of-type {\n",
       "        vertical-align: middle;\n",
       "    }\n",
       "\n",
       "    .dataframe tbody tr th {\n",
       "        vertical-align: top;\n",
       "    }\n",
       "\n",
       "    .dataframe thead th {\n",
       "        text-align: right;\n",
       "    }\n",
       "</style>\n",
       "<table border=\"1\" class=\"dataframe\">\n",
       "  <thead>\n",
       "    <tr style=\"text-align: right;\">\n",
       "      <th></th>\n",
       "      <th>ID</th>\n",
       "      <th>var3</th>\n",
       "      <th>var15</th>\n",
       "      <th>imp_ent_var16_ult1</th>\n",
       "      <th>imp_op_var39_comer_ult1</th>\n",
       "      <th>imp_op_var39_comer_ult3</th>\n",
       "      <th>imp_op_var40_comer_ult1</th>\n",
       "      <th>imp_op_var40_comer_ult3</th>\n",
       "      <th>imp_op_var40_efect_ult1</th>\n",
       "      <th>imp_op_var40_efect_ult3</th>\n",
       "      <th>...</th>\n",
       "      <th>saldo_medio_var33_hace2</th>\n",
       "      <th>saldo_medio_var33_hace3</th>\n",
       "      <th>saldo_medio_var33_ult1</th>\n",
       "      <th>saldo_medio_var33_ult3</th>\n",
       "      <th>saldo_medio_var44_hace2</th>\n",
       "      <th>saldo_medio_var44_hace3</th>\n",
       "      <th>saldo_medio_var44_ult1</th>\n",
       "      <th>saldo_medio_var44_ult3</th>\n",
       "      <th>var38</th>\n",
       "      <th>TARGET</th>\n",
       "    </tr>\n",
       "  </thead>\n",
       "  <tbody>\n",
       "    <tr>\n",
       "      <th>0</th>\n",
       "      <td>1</td>\n",
       "      <td>2</td>\n",
       "      <td>23</td>\n",
       "      <td>0.0</td>\n",
       "      <td>0.0</td>\n",
       "      <td>0.0</td>\n",
       "      <td>0.0</td>\n",
       "      <td>0.0</td>\n",
       "      <td>0</td>\n",
       "      <td>0</td>\n",
       "      <td>...</td>\n",
       "      <td>0.0</td>\n",
       "      <td>0.0</td>\n",
       "      <td>0.0</td>\n",
       "      <td>0.0</td>\n",
       "      <td>0.0</td>\n",
       "      <td>0.0</td>\n",
       "      <td>0.0</td>\n",
       "      <td>0.0</td>\n",
       "      <td>39205.170000</td>\n",
       "      <td>0</td>\n",
       "    </tr>\n",
       "    <tr>\n",
       "      <th>1</th>\n",
       "      <td>3</td>\n",
       "      <td>2</td>\n",
       "      <td>34</td>\n",
       "      <td>0.0</td>\n",
       "      <td>0.0</td>\n",
       "      <td>0.0</td>\n",
       "      <td>0.0</td>\n",
       "      <td>0.0</td>\n",
       "      <td>0</td>\n",
       "      <td>0</td>\n",
       "      <td>...</td>\n",
       "      <td>0.0</td>\n",
       "      <td>0.0</td>\n",
       "      <td>0.0</td>\n",
       "      <td>0.0</td>\n",
       "      <td>0.0</td>\n",
       "      <td>0.0</td>\n",
       "      <td>0.0</td>\n",
       "      <td>0.0</td>\n",
       "      <td>49278.030000</td>\n",
       "      <td>0</td>\n",
       "    </tr>\n",
       "    <tr>\n",
       "      <th>2</th>\n",
       "      <td>4</td>\n",
       "      <td>2</td>\n",
       "      <td>23</td>\n",
       "      <td>0.0</td>\n",
       "      <td>0.0</td>\n",
       "      <td>0.0</td>\n",
       "      <td>0.0</td>\n",
       "      <td>0.0</td>\n",
       "      <td>0</td>\n",
       "      <td>0</td>\n",
       "      <td>...</td>\n",
       "      <td>0.0</td>\n",
       "      <td>0.0</td>\n",
       "      <td>0.0</td>\n",
       "      <td>0.0</td>\n",
       "      <td>0.0</td>\n",
       "      <td>0.0</td>\n",
       "      <td>0.0</td>\n",
       "      <td>0.0</td>\n",
       "      <td>67333.770000</td>\n",
       "      <td>0</td>\n",
       "    </tr>\n",
       "    <tr>\n",
       "      <th>3</th>\n",
       "      <td>8</td>\n",
       "      <td>2</td>\n",
       "      <td>37</td>\n",
       "      <td>0.0</td>\n",
       "      <td>195.0</td>\n",
       "      <td>195.0</td>\n",
       "      <td>0.0</td>\n",
       "      <td>0.0</td>\n",
       "      <td>0</td>\n",
       "      <td>0</td>\n",
       "      <td>...</td>\n",
       "      <td>0.0</td>\n",
       "      <td>0.0</td>\n",
       "      <td>0.0</td>\n",
       "      <td>0.0</td>\n",
       "      <td>0.0</td>\n",
       "      <td>0.0</td>\n",
       "      <td>0.0</td>\n",
       "      <td>0.0</td>\n",
       "      <td>64007.970000</td>\n",
       "      <td>0</td>\n",
       "    </tr>\n",
       "    <tr>\n",
       "      <th>4</th>\n",
       "      <td>10</td>\n",
       "      <td>2</td>\n",
       "      <td>39</td>\n",
       "      <td>0.0</td>\n",
       "      <td>0.0</td>\n",
       "      <td>0.0</td>\n",
       "      <td>0.0</td>\n",
       "      <td>0.0</td>\n",
       "      <td>0</td>\n",
       "      <td>0</td>\n",
       "      <td>...</td>\n",
       "      <td>0.0</td>\n",
       "      <td>0.0</td>\n",
       "      <td>0.0</td>\n",
       "      <td>0.0</td>\n",
       "      <td>0.0</td>\n",
       "      <td>0.0</td>\n",
       "      <td>0.0</td>\n",
       "      <td>0.0</td>\n",
       "      <td>117310.979016</td>\n",
       "      <td>0</td>\n",
       "    </tr>\n",
       "  </tbody>\n",
       "</table>\n",
       "<p>5 rows × 371 columns</p>\n",
       "</div>"
      ],
      "text/plain": [
       "   ID  var3  var15  imp_ent_var16_ult1  imp_op_var39_comer_ult1  \\\n",
       "0   1     2     23                 0.0                      0.0   \n",
       "1   3     2     34                 0.0                      0.0   \n",
       "2   4     2     23                 0.0                      0.0   \n",
       "3   8     2     37                 0.0                    195.0   \n",
       "4  10     2     39                 0.0                      0.0   \n",
       "\n",
       "   imp_op_var39_comer_ult3  imp_op_var40_comer_ult1  imp_op_var40_comer_ult3  \\\n",
       "0                      0.0                      0.0                      0.0   \n",
       "1                      0.0                      0.0                      0.0   \n",
       "2                      0.0                      0.0                      0.0   \n",
       "3                    195.0                      0.0                      0.0   \n",
       "4                      0.0                      0.0                      0.0   \n",
       "\n",
       "   imp_op_var40_efect_ult1  imp_op_var40_efect_ult3  ...  \\\n",
       "0                        0                        0  ...   \n",
       "1                        0                        0  ...   \n",
       "2                        0                        0  ...   \n",
       "3                        0                        0  ...   \n",
       "4                        0                        0  ...   \n",
       "\n",
       "   saldo_medio_var33_hace2  saldo_medio_var33_hace3  saldo_medio_var33_ult1  \\\n",
       "0                      0.0                      0.0                     0.0   \n",
       "1                      0.0                      0.0                     0.0   \n",
       "2                      0.0                      0.0                     0.0   \n",
       "3                      0.0                      0.0                     0.0   \n",
       "4                      0.0                      0.0                     0.0   \n",
       "\n",
       "   saldo_medio_var33_ult3  saldo_medio_var44_hace2  saldo_medio_var44_hace3  \\\n",
       "0                     0.0                      0.0                      0.0   \n",
       "1                     0.0                      0.0                      0.0   \n",
       "2                     0.0                      0.0                      0.0   \n",
       "3                     0.0                      0.0                      0.0   \n",
       "4                     0.0                      0.0                      0.0   \n",
       "\n",
       "   saldo_medio_var44_ult1  saldo_medio_var44_ult3          var38  TARGET  \n",
       "0                     0.0                     0.0   39205.170000       0  \n",
       "1                     0.0                     0.0   49278.030000       0  \n",
       "2                     0.0                     0.0   67333.770000       0  \n",
       "3                     0.0                     0.0   64007.970000       0  \n",
       "4                     0.0                     0.0  117310.979016       0  \n",
       "\n",
       "[5 rows x 371 columns]"
      ]
     },
     "execution_count": 3,
     "metadata": {},
     "output_type": "execute_result"
    }
   ],
   "source": [
    "data = pd.read_csv('santander-train.csv', nrows = 20000)\n",
    "data.head()"
   ]
  },
  {
   "cell_type": "code",
   "execution_count": 4,
   "metadata": {},
   "outputs": [
    {
     "data": {
      "text/plain": [
       "((20000, 370), (20000,))"
      ]
     },
     "execution_count": 4,
     "metadata": {},
     "output_type": "execute_result"
    }
   ],
   "source": [
    "X = data.drop('TARGET', axis = 1)\n",
    "y = data['TARGET']\n",
    "X.shape, y.shape"
   ]
  },
  {
   "cell_type": "code",
   "execution_count": 5,
   "metadata": {},
   "outputs": [],
   "source": [
    "X_train, X_test, y_train, y_test = train_test_split(X , y,test_size = 0.2, random_state = 0, stratify = y)"
   ]
  },
  {
   "cell_type": "markdown",
   "metadata": {},
   "source": [
    "# Constant Features Removal"
   ]
  },
  {
   "cell_type": "code",
   "execution_count": 6,
   "metadata": {},
   "outputs": [
    {
     "data": {
      "text/plain": [
       "VarianceThreshold(threshold=0)"
      ]
     },
     "execution_count": 6,
     "metadata": {},
     "output_type": "execute_result"
    }
   ],
   "source": [
    "\n",
    "constant_fiter = VarianceThreshold(threshold=0)\n",
    "constant_fiter.fit(X_train)"
   ]
  },
  {
   "cell_type": "code",
   "execution_count": 7,
   "metadata": {},
   "outputs": [
    {
     "data": {
      "text/plain": [
       "291"
      ]
     },
     "execution_count": 7,
     "metadata": {},
     "output_type": "execute_result"
    }
   ],
   "source": [
    "constant_fiter.get_support().sum()"
   ]
  },
  {
   "cell_type": "code",
   "execution_count": 8,
   "metadata": {},
   "outputs": [
    {
     "data": {
      "text/plain": [
       "[False,\n",
       " False,\n",
       " False,\n",
       " False,\n",
       " False,\n",
       " False,\n",
       " False,\n",
       " False,\n",
       " False,\n",
       " False,\n",
       " False,\n",
       " False,\n",
       " False,\n",
       " False,\n",
       " False,\n",
       " False,\n",
       " False,\n",
       " False,\n",
       " False,\n",
       " False,\n",
       " False,\n",
       " False,\n",
       " True,\n",
       " True,\n",
       " False,\n",
       " False,\n",
       " False,\n",
       " False,\n",
       " False,\n",
       " False,\n",
       " False,\n",
       " False,\n",
       " False,\n",
       " False,\n",
       " False,\n",
       " False,\n",
       " False,\n",
       " True,\n",
       " True,\n",
       " False,\n",
       " False,\n",
       " False,\n",
       " False,\n",
       " False,\n",
       " True,\n",
       " True,\n",
       " False,\n",
       " False,\n",
       " False,\n",
       " False,\n",
       " False,\n",
       " False,\n",
       " False,\n",
       " False,\n",
       " False,\n",
       " False,\n",
       " False,\n",
       " True,\n",
       " True,\n",
       " True,\n",
       " True,\n",
       " False,\n",
       " False,\n",
       " False,\n",
       " False,\n",
       " False,\n",
       " False,\n",
       " False,\n",
       " False,\n",
       " False,\n",
       " False,\n",
       " False,\n",
       " True,\n",
       " True,\n",
       " False,\n",
       " False,\n",
       " False,\n",
       " False,\n",
       " False,\n",
       " False,\n",
       " False,\n",
       " True,\n",
       " False,\n",
       " False,\n",
       " False,\n",
       " True,\n",
       " True,\n",
       " False,\n",
       " False,\n",
       " False,\n",
       " False,\n",
       " False,\n",
       " False,\n",
       " False,\n",
       " False,\n",
       " False,\n",
       " False,\n",
       " False,\n",
       " False,\n",
       " False,\n",
       " False,\n",
       " False,\n",
       " False,\n",
       " True,\n",
       " True,\n",
       " False,\n",
       " False,\n",
       " False,\n",
       " False,\n",
       " False,\n",
       " True,\n",
       " True,\n",
       " False,\n",
       " False,\n",
       " False,\n",
       " False,\n",
       " False,\n",
       " False,\n",
       " False,\n",
       " False,\n",
       " False,\n",
       " False,\n",
       " False,\n",
       " False,\n",
       " False,\n",
       " False,\n",
       " False,\n",
       " False,\n",
       " False,\n",
       " False,\n",
       " False,\n",
       " False,\n",
       " True,\n",
       " True,\n",
       " True,\n",
       " True,\n",
       " False,\n",
       " False,\n",
       " False,\n",
       " False,\n",
       " False,\n",
       " False,\n",
       " False,\n",
       " False,\n",
       " False,\n",
       " False,\n",
       " True,\n",
       " True,\n",
       " False,\n",
       " False,\n",
       " False,\n",
       " False,\n",
       " False,\n",
       " False,\n",
       " False,\n",
       " False,\n",
       " True,\n",
       " False,\n",
       " False,\n",
       " False,\n",
       " False,\n",
       " False,\n",
       " True,\n",
       " True,\n",
       " False,\n",
       " False,\n",
       " False,\n",
       " False,\n",
       " False,\n",
       " False,\n",
       " False,\n",
       " True,\n",
       " False,\n",
       " False,\n",
       " False,\n",
       " True,\n",
       " False,\n",
       " False,\n",
       " False,\n",
       " False,\n",
       " True,\n",
       " True,\n",
       " False,\n",
       " False,\n",
       " False,\n",
       " False,\n",
       " False,\n",
       " True,\n",
       " False,\n",
       " False,\n",
       " True,\n",
       " False,\n",
       " False,\n",
       " True,\n",
       " False,\n",
       " True,\n",
       " True,\n",
       " False,\n",
       " False,\n",
       " False,\n",
       " False,\n",
       " False,\n",
       " False,\n",
       " True,\n",
       " False,\n",
       " True,\n",
       " False,\n",
       " True,\n",
       " False,\n",
       " False,\n",
       " False,\n",
       " False,\n",
       " False,\n",
       " False,\n",
       " False,\n",
       " True,\n",
       " False,\n",
       " True,\n",
       " False,\n",
       " True,\n",
       " False,\n",
       " True,\n",
       " True,\n",
       " True,\n",
       " True,\n",
       " False,\n",
       " False,\n",
       " False,\n",
       " False,\n",
       " False,\n",
       " False,\n",
       " True,\n",
       " False,\n",
       " False,\n",
       " False,\n",
       " True,\n",
       " False,\n",
       " True,\n",
       " False,\n",
       " True,\n",
       " True,\n",
       " False,\n",
       " False,\n",
       " True,\n",
       " False,\n",
       " True,\n",
       " True,\n",
       " True,\n",
       " False,\n",
       " True,\n",
       " True,\n",
       " False,\n",
       " False,\n",
       " True,\n",
       " False,\n",
       " False,\n",
       " False,\n",
       " False,\n",
       " False,\n",
       " False,\n",
       " False,\n",
       " False,\n",
       " True,\n",
       " True,\n",
       " False,\n",
       " False,\n",
       " False,\n",
       " False,\n",
       " False,\n",
       " False,\n",
       " True,\n",
       " False,\n",
       " False,\n",
       " False,\n",
       " False,\n",
       " False,\n",
       " False,\n",
       " False,\n",
       " False,\n",
       " False,\n",
       " False,\n",
       " False,\n",
       " False,\n",
       " False,\n",
       " False,\n",
       " False,\n",
       " True,\n",
       " False,\n",
       " False,\n",
       " False,\n",
       " False,\n",
       " False,\n",
       " False,\n",
       " False,\n",
       " False,\n",
       " False,\n",
       " False,\n",
       " False,\n",
       " False,\n",
       " False,\n",
       " False,\n",
       " False,\n",
       " False,\n",
       " False,\n",
       " True,\n",
       " False,\n",
       " True,\n",
       " False,\n",
       " True,\n",
       " True,\n",
       " False,\n",
       " False,\n",
       " False,\n",
       " False,\n",
       " True,\n",
       " False,\n",
       " True,\n",
       " True,\n",
       " True,\n",
       " False,\n",
       " True,\n",
       " True,\n",
       " False,\n",
       " False,\n",
       " False,\n",
       " False,\n",
       " False,\n",
       " False,\n",
       " True,\n",
       " False,\n",
       " False,\n",
       " False,\n",
       " False,\n",
       " False,\n",
       " False,\n",
       " False,\n",
       " False,\n",
       " False,\n",
       " False,\n",
       " False,\n",
       " False,\n",
       " False,\n",
       " False,\n",
       " False,\n",
       " False,\n",
       " False,\n",
       " False,\n",
       " False,\n",
       " False,\n",
       " True,\n",
       " True,\n",
       " True,\n",
       " True,\n",
       " False,\n",
       " False,\n",
       " False,\n",
       " False,\n",
       " False,\n",
       " True,\n",
       " False,\n",
       " False,\n",
       " False,\n",
       " False,\n",
       " False,\n",
       " False,\n",
       " False,\n",
       " False,\n",
       " False,\n",
       " False,\n",
       " False]"
      ]
     },
     "execution_count": 8,
     "metadata": {},
     "output_type": "execute_result"
    }
   ],
   "source": [
    "constant_list = [not temp for temp in constant_fiter.get_support()]\n",
    "constant_list"
   ]
  },
  {
   "cell_type": "code",
   "execution_count": 9,
   "metadata": {},
   "outputs": [
    {
     "data": {
      "text/plain": [
       "Index(['ind_var2_0', 'ind_var2', 'ind_var13_medio_0', 'ind_var13_medio',\n",
       "       'ind_var18_0', 'ind_var18', 'ind_var27_0', 'ind_var28_0', 'ind_var28',\n",
       "       'ind_var27', 'ind_var34_0', 'ind_var34', 'ind_var41', 'ind_var46_0',\n",
       "       'ind_var46', 'num_var13_medio_0', 'num_var13_medio', 'num_var18_0',\n",
       "       'num_var18', 'num_var27_0', 'num_var28_0', 'num_var28', 'num_var27',\n",
       "       'num_var34_0', 'num_var34', 'num_var41', 'num_var46_0', 'num_var46',\n",
       "       'saldo_var13_medio', 'saldo_var18', 'saldo_var28', 'saldo_var27',\n",
       "       'saldo_var34', 'saldo_var41', 'saldo_var46',\n",
       "       'delta_imp_amort_var18_1y3', 'delta_imp_amort_var34_1y3',\n",
       "       'delta_imp_reemb_var33_1y3', 'delta_imp_trasp_var17_out_1y3',\n",
       "       'delta_imp_trasp_var33_out_1y3', 'delta_num_reemb_var33_1y3',\n",
       "       'delta_num_trasp_var17_out_1y3', 'delta_num_trasp_var33_out_1y3',\n",
       "       'imp_amort_var18_hace3', 'imp_amort_var18_ult1',\n",
       "       'imp_amort_var34_hace3', 'imp_amort_var34_ult1', 'imp_var7_emit_ult1',\n",
       "       'imp_reemb_var13_hace3', 'imp_reemb_var17_hace3',\n",
       "       'imp_reemb_var33_hace3', 'imp_reemb_var33_ult1',\n",
       "       'imp_trasp_var17_in_hace3', 'imp_trasp_var17_out_hace3',\n",
       "       'imp_trasp_var17_out_ult1', 'imp_trasp_var33_in_hace3',\n",
       "       'imp_trasp_var33_out_hace3', 'imp_trasp_var33_out_ult1',\n",
       "       'ind_var7_emit_ult1', 'num_var2_0_ult1', 'num_var2_ult1',\n",
       "       'num_var7_emit_ult1', 'num_meses_var13_medio_ult3',\n",
       "       'num_reemb_var13_hace3', 'num_reemb_var17_hace3',\n",
       "       'num_reemb_var33_hace3', 'num_reemb_var33_ult1',\n",
       "       'num_trasp_var17_in_hace3', 'num_trasp_var17_out_hace3',\n",
       "       'num_trasp_var17_out_ult1', 'num_trasp_var33_in_hace3',\n",
       "       'num_trasp_var33_out_hace3', 'num_trasp_var33_out_ult1',\n",
       "       'saldo_var2_ult1', 'saldo_medio_var13_medio_hace2',\n",
       "       'saldo_medio_var13_medio_hace3', 'saldo_medio_var13_medio_ult1',\n",
       "       'saldo_medio_var13_medio_ult3', 'saldo_medio_var29_hace3'],\n",
       "      dtype='object')"
      ]
     },
     "execution_count": 9,
     "metadata": {},
     "output_type": "execute_result"
    }
   ],
   "source": [
    "X.columns[constant_list]"
   ]
  },
  {
   "cell_type": "code",
   "execution_count": 10,
   "metadata": {},
   "outputs": [],
   "source": [
    "X_train_filter = constant_fiter.transform(X_train)\n",
    "X_test_filter = constant_fiter.transform(X_test)"
   ]
  },
  {
   "cell_type": "code",
   "execution_count": 11,
   "metadata": {},
   "outputs": [
    {
     "data": {
      "text/plain": [
       "((16000, 291), (4000, 291), (16000, 370))"
      ]
     },
     "execution_count": 11,
     "metadata": {},
     "output_type": "execute_result"
    }
   ],
   "source": [
    "X_train_filter.shape, X_test_filter.shape, X_train.shape"
   ]
  },
  {
   "cell_type": "markdown",
   "metadata": {},
   "source": [
    "# Quasi Constant Feature Removal"
   ]
  },
  {
   "cell_type": "code",
   "execution_count": 12,
   "metadata": {},
   "outputs": [],
   "source": [
    "quasi_constant_filter = VarianceThreshold(threshold=0.1)"
   ]
  },
  {
   "cell_type": "code",
   "execution_count": 13,
   "metadata": {},
   "outputs": [
    {
     "data": {
      "text/plain": [
       "VarianceThreshold(threshold=0.1)"
      ]
     },
     "execution_count": 13,
     "metadata": {},
     "output_type": "execute_result"
    }
   ],
   "source": [
    "quasi_constant_filter.fit(X_train_filter)"
   ]
  },
  {
   "cell_type": "code",
   "execution_count": 14,
   "metadata": {},
   "outputs": [
    {
     "data": {
      "text/plain": [
       "194"
      ]
     },
     "execution_count": 14,
     "metadata": {},
     "output_type": "execute_result"
    }
   ],
   "source": [
    "quasi_constant_filter.get_support().sum()"
   ]
  },
  {
   "cell_type": "code",
   "execution_count": 15,
   "metadata": {},
   "outputs": [],
   "source": [
    "X_train_quasi_filter = quasi_constant_filter.transform(X_train_filter)\n",
    "X_test_quasi_filter = quasi_constant_filter.transform(X_test_filter)"
   ]
  },
  {
   "cell_type": "code",
   "execution_count": 16,
   "metadata": {},
   "outputs": [
    {
     "data": {
      "text/plain": [
       "((16000, 194), (4000, 194))"
      ]
     },
     "execution_count": 16,
     "metadata": {},
     "output_type": "execute_result"
    }
   ],
   "source": [
    "X_train_quasi_filter.shape, X_test_quasi_filter.shape"
   ]
  },
  {
   "cell_type": "markdown",
   "metadata": {},
   "source": [
    "# Remove duplicate feature"
   ]
  },
  {
   "cell_type": "code",
   "execution_count": 17,
   "metadata": {},
   "outputs": [],
   "source": [
    "X_train_T = X_train_quasi_filter.T\n",
    "X_test_T = X_test_quasi_filter.T"
   ]
  },
  {
   "cell_type": "code",
   "execution_count": 18,
   "metadata": {},
   "outputs": [
    {
     "data": {
      "text/plain": [
       "numpy.ndarray"
      ]
     },
     "execution_count": 18,
     "metadata": {},
     "output_type": "execute_result"
    }
   ],
   "source": [
    "type(X_train_T)"
   ]
  },
  {
   "cell_type": "code",
   "execution_count": 19,
   "metadata": {},
   "outputs": [],
   "source": [
    "X_train_T = pd.DataFrame(X_train_T)\n",
    "X_test_T = pd.DataFrame(X_test_T)"
   ]
  },
  {
   "cell_type": "code",
   "execution_count": 20,
   "metadata": {},
   "outputs": [
    {
     "data": {
      "text/plain": [
       "((194, 16000), (194, 4000))"
      ]
     },
     "execution_count": 20,
     "metadata": {},
     "output_type": "execute_result"
    }
   ],
   "source": [
    "X_train_T.shape, X_test_T.shape"
   ]
  },
  {
   "cell_type": "code",
   "execution_count": 21,
   "metadata": {},
   "outputs": [
    {
     "data": {
      "text/plain": [
       "11"
      ]
     },
     "execution_count": 21,
     "metadata": {},
     "output_type": "execute_result"
    }
   ],
   "source": [
    "X_train_T.duplicated().sum()"
   ]
  },
  {
   "cell_type": "code",
   "execution_count": 22,
   "metadata": {},
   "outputs": [
    {
     "data": {
      "text/plain": [
       "0      False\n",
       "1      False\n",
       "2      False\n",
       "3      False\n",
       "4      False\n",
       "       ...  \n",
       "189    False\n",
       "190    False\n",
       "191    False\n",
       "192    False\n",
       "193    False\n",
       "Length: 194, dtype: bool"
      ]
     },
     "execution_count": 22,
     "metadata": {},
     "output_type": "execute_result"
    }
   ],
   "source": [
    "duplicated_features = X_train_T.duplicated()\n",
    "duplicated_features"
   ]
  },
  {
   "cell_type": "code",
   "execution_count": 23,
   "metadata": {},
   "outputs": [],
   "source": [
    "features_to_keep = [not index for index in duplicated_features]"
   ]
  },
  {
   "cell_type": "code",
   "execution_count": 24,
   "metadata": {},
   "outputs": [],
   "source": [
    "X_train_unique = X_train_T[features_to_keep].T\n",
    "X_test_unique = X_test_T[features_to_keep].T"
   ]
  },
  {
   "cell_type": "code",
   "execution_count": 25,
   "metadata": {},
   "outputs": [
    {
     "data": {
      "text/plain": [
       "((16000, 183), (16000, 370))"
      ]
     },
     "execution_count": 25,
     "metadata": {},
     "output_type": "execute_result"
    }
   ],
   "source": [
    "X_train_unique.shape, X_train.shape "
   ]
  },
  {
   "cell_type": "markdown",
   "metadata": {},
   "source": [
    "# Build ML model to compare the performance of selected feature"
   ]
  },
  {
   "cell_type": "code",
   "execution_count": 26,
   "metadata": {},
   "outputs": [],
   "source": [
    "def run_randomforest(X_train, X_test, y_train, y_test):\n",
    "    clf = RandomForestClassifier(n_estimators=100, random_state=0, n_jobs=-1)\n",
    "    clf.fit(X_train, y_train)\n",
    "    y_pred = clf.predict(X_test)\n",
    "    print(\"Acc on test set\")\n",
    "    print(accuracy_score(y_test, y_pred))"
   ]
  },
  {
   "cell_type": "code",
   "execution_count": 27,
   "metadata": {},
   "outputs": [
    {
     "name": "stdout",
     "output_type": "stream",
     "text": [
      "Acc on test set\n",
      "0.958\n",
      "CPU times: user 5.8 s, sys: 129 ms, total: 5.93 s\n",
      "Wall time: 1.2 s\n"
     ]
    }
   ],
   "source": [
    "%%time\n",
    "run_randomforest(X_train_unique, X_test_unique, y_train, y_test)"
   ]
  },
  {
   "cell_type": "code",
   "execution_count": 28,
   "metadata": {},
   "outputs": [
    {
     "name": "stdout",
     "output_type": "stream",
     "text": [
      "Acc on test set\n",
      "0.9585\n",
      "CPU times: user 8.54 s, sys: 171 ms, total: 8.71 s\n",
      "Wall time: 1.55 s\n"
     ]
    }
   ],
   "source": [
    "%%time\n",
    "run_randomforest(X_train, X_test, y_train, y_test)"
   ]
  },
  {
   "cell_type": "code",
   "execution_count": 29,
   "metadata": {},
   "outputs": [
    {
     "data": {
      "text/plain": [
       "34.83870967741935"
      ]
     },
     "execution_count": 29,
     "metadata": {},
     "output_type": "execute_result"
    }
   ],
   "source": [
    "(1.55-1.01)*100/1.55"
   ]
  },
  {
   "cell_type": "markdown",
   "metadata": {},
   "source": [
    "# Correlated Feature Removal"
   ]
  },
  {
   "cell_type": "code",
   "execution_count": 31,
   "metadata": {},
   "outputs": [],
   "source": [
    "corrmat = X_train_unique.corr()"
   ]
  },
  {
   "cell_type": "code",
   "execution_count": 32,
   "metadata": {},
   "outputs": [
    {
     "data": {
      "text/plain": [
       "<matplotlib.axes._subplots.AxesSubplot at 0x7f9d0f93d350>"
      ]
     },
     "execution_count": 32,
     "metadata": {},
     "output_type": "execute_result"
    },
    {
     "data": {
      "image/png": "[encoded data removed]",
      "text/plain": [
       "<Figure size 864x576 with 2 Axes>"
      ]
     },
     "metadata": {
      "needs_background": "light"
     },
     "output_type": "display_data"
    }
   ],
   "source": [
    "plt.figure(figsize=(12,8))\n",
    "sns.heatmap(corrmat)"
   ]
  },
  {
   "cell_type": "code",
   "execution_count": 33,
   "metadata": {},
   "outputs": [],
   "source": [
    "def get_correlation(data, threshold):\n",
    "    corr_col = set()\n",
    "    corrmat = data.corr()\n",
    "    for i in range(len(corrmat.columns)):\n",
    "        for j in range(i):\n",
    "            if abs(corrmat.iloc[i, j] > threshold):\n",
    "                colname = corrmat.columns[i]\n",
    "                corr_col.add(colname)\n",
    "    return corr_col"
   ]
  },
  {
   "cell_type": "code",
   "execution_count": 35,
   "metadata": {},
   "outputs": [
    {
     "data": {
      "text/plain": [
       "{5,\n",
       " 7,\n",
       " 9,\n",
       " 11,\n",
       " 12,\n",
       " 14,\n",
       " 15,\n",
       " 16,\n",
       " 17,\n",
       " 18,\n",
       " 23,\n",
       " 27,\n",
       " 29,\n",
       " 34,\n",
       " 36,\n",
       " 37,\n",
       " 39,\n",
       " 40,\n",
       " 43,\n",
       " 47,\n",
       " 51,\n",
       " 52,\n",
       " 53,\n",
       " 54,\n",
       " 55,\n",
       " 57,\n",
       " 59,\n",
       " 61,\n",
       " 63,\n",
       " 65,\n",
       " 66,\n",
       " 67,\n",
       " 68,\n",
       " 75,\n",
       " 79,\n",
       " 81,\n",
       " 84,\n",
       " 89,\n",
       " 100,\n",
       " 102,\n",
       " 107,\n",
       " 110,\n",
       " 113,\n",
       " 117,\n",
       " 118,\n",
       " 121,\n",
       " 122,\n",
       " 133,\n",
       " 135,\n",
       " 136,\n",
       " 137,\n",
       " 138,\n",
       " 140,\n",
       " 141,\n",
       " 142,\n",
       " 143,\n",
       " 144,\n",
       " 145,\n",
       " 147,\n",
       " 148,\n",
       " 149,\n",
       " 153,\n",
       " 154,\n",
       " 156,\n",
       " 157,\n",
       " 164,\n",
       " 165,\n",
       " 166,\n",
       " 168,\n",
       " 169,\n",
       " 170,\n",
       " 172,\n",
       " 173,\n",
       " 176,\n",
       " 177,\n",
       " 178,\n",
       " 179,\n",
       " 180,\n",
       " 181,\n",
       " 183,\n",
       " 184,\n",
       " 185,\n",
       " 186,\n",
       " 187,\n",
       " 188,\n",
       " 189,\n",
       " 190,\n",
       " 191,\n",
       " 192}"
      ]
     },
     "execution_count": 35,
     "metadata": {},
     "output_type": "execute_result"
    }
   ],
   "source": [
    "cor_features = get_correlation(X_train_unique, 0.85)\n",
    "cor_features"
   ]
  },
  {
   "cell_type": "code",
   "execution_count": 36,
   "metadata": {},
   "outputs": [
    {
     "data": {
      "text/plain": [
       "89"
      ]
     },
     "execution_count": 36,
     "metadata": {},
     "output_type": "execute_result"
    }
   ],
   "source": [
    "len(cor_features)"
   ]
  },
  {
   "cell_type": "code",
   "execution_count": 37,
   "metadata": {},
   "outputs": [],
   "source": [
    "X_train_uncorr = X_train_unique.drop(labels=cor_features, axis=1)\n",
    "X_test_uncorr = X_test_unique.drop(labels=cor_features, axis=1)"
   ]
  },
  {
   "cell_type": "code",
   "execution_count": 38,
   "metadata": {},
   "outputs": [
    {
     "data": {
      "text/plain": [
       "((16000, 94), (4000, 94))"
      ]
     },
     "execution_count": 38,
     "metadata": {},
     "output_type": "execute_result"
    }
   ],
   "source": [
    "X_train_uncorr.shape, X_test_uncorr.shape"
   ]
  },
  {
   "cell_type": "code",
   "execution_count": 39,
   "metadata": {},
   "outputs": [
    {
     "name": "stdout",
     "output_type": "stream",
     "text": [
      "Acc on test set\n",
      "0.95825\n",
      "CPU times: user 3.75 s, sys: 109 ms, total: 3.86 s\n",
      "Wall time: 869 ms\n"
     ]
    }
   ],
   "source": [
    "%%time \n",
    "run_randomforest(X_train_uncorr, X_test_uncorr, y_train, y_test)"
   ]
  },
  {
   "cell_type": "code",
   "execution_count": 40,
   "metadata": {},
   "outputs": [
    {
     "name": "stdout",
     "output_type": "stream",
     "text": [
      "Acc on test set\n",
      "0.9585\n",
      "CPU times: user 9.34 s, sys: 188 ms, total: 9.53 s\n",
      "Wall time: 1.76 s\n"
     ]
    }
   ],
   "source": [
    "%%time \n",
    "run_randomforest(X_train, X_test, y_train, y_test)"
   ]
  },
  {
   "cell_type": "code",
   "execution_count": 41,
   "metadata": {},
   "outputs": [
    {
     "data": {
      "text/plain": [
       "50.625"
      ]
     },
     "execution_count": 41,
     "metadata": {},
     "output_type": "execute_result"
    }
   ],
   "source": [
    "(1.76 - 0.869)*100/1.76"
   ]
  },
  {
   "cell_type": "markdown",
   "metadata": {},
   "source": [
    "# Feature Grouping and Feature Importance\n"
   ]
  },
  {
   "cell_type": "code",
   "execution_count": 57,
   "metadata": {},
   "outputs": [
    {
     "data": {
      "text/html": [
       "<div>\n",
       "<style scoped>\n",
       "    .dataframe tbody tr th:only-of-type {\n",
       "        vertical-align: middle;\n",
       "    }\n",
       "\n",
       "    .dataframe tbody tr th {\n",
       "        vertical-align: top;\n",
       "    }\n",
       "\n",
       "    .dataframe thead th {\n",
       "        text-align: right;\n",
       "    }\n",
       "</style>\n",
       "<table border=\"1\" class=\"dataframe\">\n",
       "  <thead>\n",
       "    <tr style=\"text-align: right;\">\n",
       "      <th></th>\n",
       "      <th>0</th>\n",
       "      <th>1</th>\n",
       "      <th>2</th>\n",
       "      <th>3</th>\n",
       "      <th>4</th>\n",
       "      <th>5</th>\n",
       "      <th>6</th>\n",
       "      <th>7</th>\n",
       "      <th>8</th>\n",
       "      <th>9</th>\n",
       "      <th>...</th>\n",
       "      <th>184</th>\n",
       "      <th>185</th>\n",
       "      <th>186</th>\n",
       "      <th>187</th>\n",
       "      <th>188</th>\n",
       "      <th>189</th>\n",
       "      <th>190</th>\n",
       "      <th>191</th>\n",
       "      <th>192</th>\n",
       "      <th>193</th>\n",
       "    </tr>\n",
       "  </thead>\n",
       "  <tbody>\n",
       "    <tr>\n",
       "      <th>0</th>\n",
       "      <td>1.000000</td>\n",
       "      <td>-0.025277</td>\n",
       "      <td>-0.001942</td>\n",
       "      <td>0.003594</td>\n",
       "      <td>0.004054</td>\n",
       "      <td>-0.001697</td>\n",
       "      <td>-0.015882</td>\n",
       "      <td>-0.019807</td>\n",
       "      <td>0.000956</td>\n",
       "      <td>-0.000588</td>\n",
       "      <td>...</td>\n",
       "      <td>-0.001337</td>\n",
       "      <td>0.002051</td>\n",
       "      <td>-0.008500</td>\n",
       "      <td>0.006554</td>\n",
       "      <td>0.005907</td>\n",
       "      <td>0.008825</td>\n",
       "      <td>-0.009174</td>\n",
       "      <td>0.012031</td>\n",
       "      <td>0.012128</td>\n",
       "      <td>0.006612</td>\n",
       "    </tr>\n",
       "    <tr>\n",
       "      <th>1</th>\n",
       "      <td>-0.025277</td>\n",
       "      <td>1.000000</td>\n",
       "      <td>-0.007647</td>\n",
       "      <td>0.001819</td>\n",
       "      <td>0.008981</td>\n",
       "      <td>0.009232</td>\n",
       "      <td>0.001638</td>\n",
       "      <td>0.001746</td>\n",
       "      <td>0.000614</td>\n",
       "      <td>0.000695</td>\n",
       "      <td>...</td>\n",
       "      <td>0.000544</td>\n",
       "      <td>0.000586</td>\n",
       "      <td>0.000337</td>\n",
       "      <td>0.000550</td>\n",
       "      <td>0.000563</td>\n",
       "      <td>0.000922</td>\n",
       "      <td>0.000598</td>\n",
       "      <td>0.000875</td>\n",
       "      <td>0.000942</td>\n",
       "      <td>0.000415</td>\n",
       "    </tr>\n",
       "    <tr>\n",
       "      <th>2</th>\n",
       "      <td>-0.001942</td>\n",
       "      <td>-0.007647</td>\n",
       "      <td>1.000000</td>\n",
       "      <td>0.030919</td>\n",
       "      <td>0.106245</td>\n",
       "      <td>0.109140</td>\n",
       "      <td>0.048524</td>\n",
       "      <td>0.055708</td>\n",
       "      <td>0.004040</td>\n",
       "      <td>0.005796</td>\n",
       "      <td>...</td>\n",
       "      <td>0.025522</td>\n",
       "      <td>0.020168</td>\n",
       "      <td>0.011550</td>\n",
       "      <td>0.019325</td>\n",
       "      <td>0.019527</td>\n",
       "      <td>0.041321</td>\n",
       "      <td>0.016172</td>\n",
       "      <td>0.043577</td>\n",
       "      <td>0.044281</td>\n",
       "      <td>-0.000810</td>\n",
       "    </tr>\n",
       "    <tr>\n",
       "      <th>3</th>\n",
       "      <td>0.003594</td>\n",
       "      <td>0.001819</td>\n",
       "      <td>0.030919</td>\n",
       "      <td>1.000000</td>\n",
       "      <td>0.029418</td>\n",
       "      <td>0.024905</td>\n",
       "      <td>0.014513</td>\n",
       "      <td>0.013857</td>\n",
       "      <td>-0.000613</td>\n",
       "      <td>-0.000691</td>\n",
       "      <td>...</td>\n",
       "      <td>0.014032</td>\n",
       "      <td>-0.000583</td>\n",
       "      <td>-0.000337</td>\n",
       "      <td>-0.000548</td>\n",
       "      <td>-0.000561</td>\n",
       "      <td>0.000541</td>\n",
       "      <td>-0.000577</td>\n",
       "      <td>0.000231</td>\n",
       "      <td>0.000235</td>\n",
       "      <td>0.000966</td>\n",
       "    </tr>\n",
       "    <tr>\n",
       "      <th>4</th>\n",
       "      <td>0.004054</td>\n",
       "      <td>0.008981</td>\n",
       "      <td>0.106245</td>\n",
       "      <td>0.029418</td>\n",
       "      <td>1.000000</td>\n",
       "      <td>0.888789</td>\n",
       "      <td>0.381632</td>\n",
       "      <td>0.341266</td>\n",
       "      <td>0.012927</td>\n",
       "      <td>0.019674</td>\n",
       "      <td>...</td>\n",
       "      <td>0.002328</td>\n",
       "      <td>0.016743</td>\n",
       "      <td>-0.001662</td>\n",
       "      <td>0.020509</td>\n",
       "      <td>0.021276</td>\n",
       "      <td>-0.001905</td>\n",
       "      <td>-0.000635</td>\n",
       "      <td>-0.002552</td>\n",
       "      <td>-0.002736</td>\n",
       "      <td>0.003656</td>\n",
       "    </tr>\n",
       "    <tr>\n",
       "      <th>...</th>\n",
       "      <td>...</td>\n",
       "      <td>...</td>\n",
       "      <td>...</td>\n",
       "      <td>...</td>\n",
       "      <td>...</td>\n",
       "      <td>...</td>\n",
       "      <td>...</td>\n",
       "      <td>...</td>\n",
       "      <td>...</td>\n",
       "      <td>...</td>\n",
       "      <td>...</td>\n",
       "      <td>...</td>\n",
       "      <td>...</td>\n",
       "      <td>...</td>\n",
       "      <td>...</td>\n",
       "      <td>...</td>\n",
       "      <td>...</td>\n",
       "      <td>...</td>\n",
       "      <td>...</td>\n",
       "      <td>...</td>\n",
       "      <td>...</td>\n",
       "    </tr>\n",
       "    <tr>\n",
       "      <th>189</th>\n",
       "      <td>0.008825</td>\n",
       "      <td>0.000922</td>\n",
       "      <td>0.041321</td>\n",
       "      <td>0.000541</td>\n",
       "      <td>-0.001905</td>\n",
       "      <td>0.000871</td>\n",
       "      <td>-0.000818</td>\n",
       "      <td>-0.000866</td>\n",
       "      <td>-0.000309</td>\n",
       "      <td>-0.000349</td>\n",
       "      <td>...</td>\n",
       "      <td>0.012705</td>\n",
       "      <td>0.021540</td>\n",
       "      <td>-0.000170</td>\n",
       "      <td>0.032162</td>\n",
       "      <td>0.030087</td>\n",
       "      <td>1.000000</td>\n",
       "      <td>0.329805</td>\n",
       "      <td>0.935317</td>\n",
       "      <td>0.919036</td>\n",
       "      <td>0.011106</td>\n",
       "    </tr>\n",
       "    <tr>\n",
       "      <th>190</th>\n",
       "      <td>-0.009174</td>\n",
       "      <td>0.000598</td>\n",
       "      <td>0.016172</td>\n",
       "      <td>-0.000577</td>\n",
       "      <td>-0.000635</td>\n",
       "      <td>0.007096</td>\n",
       "      <td>-0.000515</td>\n",
       "      <td>-0.000545</td>\n",
       "      <td>-0.000195</td>\n",
       "      <td>-0.000220</td>\n",
       "      <td>...</td>\n",
       "      <td>-0.000173</td>\n",
       "      <td>-0.000185</td>\n",
       "      <td>-0.000107</td>\n",
       "      <td>-0.000174</td>\n",
       "      <td>-0.000178</td>\n",
       "      <td>0.329805</td>\n",
       "      <td>1.000000</td>\n",
       "      <td>0.127224</td>\n",
       "      <td>0.140902</td>\n",
       "      <td>0.011807</td>\n",
       "    </tr>\n",
       "    <tr>\n",
       "      <th>191</th>\n",
       "      <td>0.012031</td>\n",
       "      <td>0.000875</td>\n",
       "      <td>0.043577</td>\n",
       "      <td>0.000231</td>\n",
       "      <td>-0.002552</td>\n",
       "      <td>-0.001672</td>\n",
       "      <td>-0.000779</td>\n",
       "      <td>-0.000825</td>\n",
       "      <td>-0.000295</td>\n",
       "      <td>-0.000332</td>\n",
       "      <td>...</td>\n",
       "      <td>0.027515</td>\n",
       "      <td>0.012393</td>\n",
       "      <td>-0.000162</td>\n",
       "      <td>0.018565</td>\n",
       "      <td>0.017358</td>\n",
       "      <td>0.935317</td>\n",
       "      <td>0.127224</td>\n",
       "      <td>1.000000</td>\n",
       "      <td>0.993536</td>\n",
       "      <td>0.008604</td>\n",
       "    </tr>\n",
       "    <tr>\n",
       "      <th>192</th>\n",
       "      <td>0.012128</td>\n",
       "      <td>0.000942</td>\n",
       "      <td>0.044281</td>\n",
       "      <td>0.000235</td>\n",
       "      <td>-0.002736</td>\n",
       "      <td>-0.001844</td>\n",
       "      <td>-0.000839</td>\n",
       "      <td>-0.000888</td>\n",
       "      <td>-0.000317</td>\n",
       "      <td>-0.000358</td>\n",
       "      <td>...</td>\n",
       "      <td>0.023072</td>\n",
       "      <td>0.014523</td>\n",
       "      <td>-0.000174</td>\n",
       "      <td>0.021742</td>\n",
       "      <td>0.020331</td>\n",
       "      <td>0.919036</td>\n",
       "      <td>0.140902</td>\n",
       "      <td>0.993536</td>\n",
       "      <td>1.000000</td>\n",
       "      <td>0.009136</td>\n",
       "    </tr>\n",
       "    <tr>\n",
       "      <th>193</th>\n",
       "      <td>0.006612</td>\n",
       "      <td>0.000415</td>\n",
       "      <td>-0.000810</td>\n",
       "      <td>0.000966</td>\n",
       "      <td>0.003656</td>\n",
       "      <td>0.002257</td>\n",
       "      <td>0.004448</td>\n",
       "      <td>0.002427</td>\n",
       "      <td>-0.000739</td>\n",
       "      <td>-0.000811</td>\n",
       "      <td>...</td>\n",
       "      <td>-0.003399</td>\n",
       "      <td>-0.000773</td>\n",
       "      <td>-0.000402</td>\n",
       "      <td>-0.000525</td>\n",
       "      <td>-0.000589</td>\n",
       "      <td>0.011106</td>\n",
       "      <td>0.011807</td>\n",
       "      <td>0.008604</td>\n",
       "      <td>0.009136</td>\n",
       "      <td>1.000000</td>\n",
       "    </tr>\n",
       "  </tbody>\n",
       "</table>\n",
       "<p>183 rows × 183 columns</p>\n",
       "</div>"
      ],
      "text/plain": [
       "          0         1         2         3         4         5         6    \\\n",
       "0    1.000000 -0.025277 -0.001942  0.003594  0.004054 -0.001697 -0.015882   \n",
       "1   -0.025277  1.000000 -0.007647  0.001819  0.008981  0.009232  0.001638   \n",
       "2   -0.001942 -0.007647  1.000000  0.030919  0.106245  0.109140  0.048524   \n",
       "3    0.003594  0.001819  0.030919  1.000000  0.029418  0.024905  0.014513   \n",
       "4    0.004054  0.008981  0.106245  0.029418  1.000000  0.888789  0.381632   \n",
       "..        ...       ...       ...       ...       ...       ...       ...   \n",
       "189  0.008825  0.000922  0.041321  0.000541 -0.001905  0.000871 -0.000818   \n",
       "190 -0.009174  0.000598  0.016172 -0.000577 -0.000635  0.007096 -0.000515   \n",
       "191  0.012031  0.000875  0.043577  0.000231 -0.002552 -0.001672 -0.000779   \n",
       "192  0.012128  0.000942  0.044281  0.000235 -0.002736 -0.001844 -0.000839   \n",
       "193  0.006612  0.000415 -0.000810  0.000966  0.003656  0.002257  0.004448   \n",
       "\n",
       "          7         8         9    ...       184       185       186  \\\n",
       "0   -0.019807  0.000956 -0.000588  ... -0.001337  0.002051 -0.008500   \n",
       "1    0.001746  0.000614  0.000695  ...  0.000544  0.000586  0.000337   \n",
       "2    0.055708  0.004040  0.005796  ...  0.025522  0.020168  0.011550   \n",
       "3    0.013857 -0.000613 -0.000691  ...  0.014032 -0.000583 -0.000337   \n",
       "4    0.341266  0.012927  0.019674  ...  0.002328  0.016743 -0.001662   \n",
       "..        ...       ...       ...  ...       ...       ...       ...   \n",
       "189 -0.000866 -0.000309 -0.000349  ...  0.012705  0.021540 -0.000170   \n",
       "190 -0.000545 -0.000195 -0.000220  ... -0.000173 -0.000185 -0.000107   \n",
       "191 -0.000825 -0.000295 -0.000332  ...  0.027515  0.012393 -0.000162   \n",
       "192 -0.000888 -0.000317 -0.000358  ...  0.023072  0.014523 -0.000174   \n",
       "193  0.002427 -0.000739 -0.000811  ... -0.003399 -0.000773 -0.000402   \n",
       "\n",
       "          187       188       189       190       191       192       193  \n",
       "0    0.006554  0.005907  0.008825 -0.009174  0.012031  0.012128  0.006612  \n",
       "1    0.000550  0.000563  0.000922  0.000598  0.000875  0.000942  0.000415  \n",
       "2    0.019325  0.019527  0.041321  0.016172  0.043577  0.044281 -0.000810  \n",
       "3   -0.000548 -0.000561  0.000541 -0.000577  0.000231  0.000235  0.000966  \n",
       "4    0.020509  0.021276 -0.001905 -0.000635 -0.002552 -0.002736  0.003656  \n",
       "..        ...       ...       ...       ...       ...       ...       ...  \n",
       "189  0.032162  0.030087  1.000000  0.329805  0.935317  0.919036  0.011106  \n",
       "190 -0.000174 -0.000178  0.329805  1.000000  0.127224  0.140902  0.011807  \n",
       "191  0.018565  0.017358  0.935317  0.127224  1.000000  0.993536  0.008604  \n",
       "192  0.021742  0.020331  0.919036  0.140902  0.993536  1.000000  0.009136  \n",
       "193 -0.000525 -0.000589  0.011106  0.011807  0.008604  0.009136  1.000000  \n",
       "\n",
       "[183 rows x 183 columns]"
      ]
     },
     "execution_count": 57,
     "metadata": {},
     "output_type": "execute_result"
    }
   ],
   "source": [
    "corrmat"
   ]
  },
  {
   "cell_type": "code",
   "execution_count": 58,
   "metadata": {},
   "outputs": [
    {
     "data": {
      "text/plain": [
       "0    0      1.000000\n",
       "     1      0.025277\n",
       "     2      0.001942\n",
       "     3      0.003594\n",
       "     4      0.004054\n",
       "              ...   \n",
       "193  189    0.011106\n",
       "     190    0.011807\n",
       "     191    0.008604\n",
       "     192    0.009136\n",
       "     193    1.000000\n",
       "Length: 33489, dtype: float64"
      ]
     },
     "execution_count": 58,
     "metadata": {},
     "output_type": "execute_result"
    }
   ],
   "source": [
    "cordata = corrmat.abs().stack()\n",
    "cordata"
   ]
  },
  {
   "cell_type": "code",
   "execution_count": 59,
   "metadata": {},
   "outputs": [
    {
     "data": {
      "text/plain": [
       "98   122    1.000000e+00\n",
       "122  98     1.000000e+00\n",
       "193  193    1.000000e+00\n",
       "133  133    1.000000e+00\n",
       "125  125    1.000000e+00\n",
       "                ...     \n",
       "178  75     1.934954e-06\n",
       "114  180    6.044672e-07\n",
       "180  114    6.044672e-07\n",
       "     87     3.966696e-07\n",
       "87   180    3.966696e-07\n",
       "Length: 33489, dtype: float64"
      ]
     },
     "execution_count": 59,
     "metadata": {},
     "output_type": "execute_result"
    }
   ],
   "source": [
    "cordata = cordata.sort_values(ascending=False)\n",
    "cordata"
   ]
  },
  {
   "cell_type": "code",
   "execution_count": 60,
   "metadata": {},
   "outputs": [
    {
     "data": {
      "text/plain": [
       "107  99     1.000000\n",
       "99   107    1.000000\n",
       "92   100    1.000000\n",
       "100  92     1.000000\n",
       "121  97     1.000000\n",
       "              ...   \n",
       "141  54     0.858484\n",
       "144  55     0.857731\n",
       "55   144    0.857731\n",
       "142  47     0.857717\n",
       "47   142    0.857717\n",
       "Length: 350, dtype: float64"
      ]
     },
     "execution_count": 60,
     "metadata": {},
     "output_type": "execute_result"
    }
   ],
   "source": [
    "cordata = cordata[cordata >0.85]\n",
    "cordata = cordata[cordata < 1]\n",
    "cordata"
   ]
  },
  {
   "cell_type": "code",
   "execution_count": 61,
   "metadata": {},
   "outputs": [
    {
     "data": {
      "text/html": [
       "<div>\n",
       "<style scoped>\n",
       "    .dataframe tbody tr th:only-of-type {\n",
       "        vertical-align: middle;\n",
       "    }\n",
       "\n",
       "    .dataframe tbody tr th {\n",
       "        vertical-align: top;\n",
       "    }\n",
       "\n",
       "    .dataframe thead th {\n",
       "        text-align: right;\n",
       "    }\n",
       "</style>\n",
       "<table border=\"1\" class=\"dataframe\">\n",
       "  <thead>\n",
       "    <tr style=\"text-align: right;\">\n",
       "      <th></th>\n",
       "      <th>feature1</th>\n",
       "      <th>feature2</th>\n",
       "      <th>Corr_Value</th>\n",
       "    </tr>\n",
       "  </thead>\n",
       "  <tbody>\n",
       "    <tr>\n",
       "      <th>0</th>\n",
       "      <td>107</td>\n",
       "      <td>99</td>\n",
       "      <td>1.000000</td>\n",
       "    </tr>\n",
       "    <tr>\n",
       "      <th>1</th>\n",
       "      <td>99</td>\n",
       "      <td>107</td>\n",
       "      <td>1.000000</td>\n",
       "    </tr>\n",
       "    <tr>\n",
       "      <th>2</th>\n",
       "      <td>92</td>\n",
       "      <td>100</td>\n",
       "      <td>1.000000</td>\n",
       "    </tr>\n",
       "    <tr>\n",
       "      <th>3</th>\n",
       "      <td>100</td>\n",
       "      <td>92</td>\n",
       "      <td>1.000000</td>\n",
       "    </tr>\n",
       "    <tr>\n",
       "      <th>4</th>\n",
       "      <td>121</td>\n",
       "      <td>97</td>\n",
       "      <td>1.000000</td>\n",
       "    </tr>\n",
       "    <tr>\n",
       "      <th>...</th>\n",
       "      <td>...</td>\n",
       "      <td>...</td>\n",
       "      <td>...</td>\n",
       "    </tr>\n",
       "    <tr>\n",
       "      <th>345</th>\n",
       "      <td>141</td>\n",
       "      <td>54</td>\n",
       "      <td>0.858484</td>\n",
       "    </tr>\n",
       "    <tr>\n",
       "      <th>346</th>\n",
       "      <td>144</td>\n",
       "      <td>55</td>\n",
       "      <td>0.857731</td>\n",
       "    </tr>\n",
       "    <tr>\n",
       "      <th>347</th>\n",
       "      <td>55</td>\n",
       "      <td>144</td>\n",
       "      <td>0.857731</td>\n",
       "    </tr>\n",
       "    <tr>\n",
       "      <th>348</th>\n",
       "      <td>142</td>\n",
       "      <td>47</td>\n",
       "      <td>0.857717</td>\n",
       "    </tr>\n",
       "    <tr>\n",
       "      <th>349</th>\n",
       "      <td>47</td>\n",
       "      <td>142</td>\n",
       "      <td>0.857717</td>\n",
       "    </tr>\n",
       "  </tbody>\n",
       "</table>\n",
       "<p>350 rows × 3 columns</p>\n",
       "</div>"
      ],
      "text/plain": [
       "     feature1  feature2  Corr_Value\n",
       "0         107        99    1.000000\n",
       "1          99       107    1.000000\n",
       "2          92       100    1.000000\n",
       "3         100        92    1.000000\n",
       "4         121        97    1.000000\n",
       "..        ...       ...         ...\n",
       "345       141        54    0.858484\n",
       "346       144        55    0.857731\n",
       "347        55       144    0.857731\n",
       "348       142        47    0.857717\n",
       "349        47       142    0.857717\n",
       "\n",
       "[350 rows x 3 columns]"
      ]
     },
     "execution_count": 61,
     "metadata": {},
     "output_type": "execute_result"
    }
   ],
   "source": [
    "cordata = pd.DataFrame(cordata).reset_index()\n",
    "cordata.columns = ['feature1', 'feature2', 'Corr_Value']\n",
    "cordata"
   ]
  },
  {
   "cell_type": "code",
   "execution_count": 62,
   "metadata": {},
   "outputs": [],
   "source": [
    "grouped_feature_list = []\n",
    "correlated_groups_list = []\n",
    "for feature in cordata.feature1.unique():\n",
    "    if feature not in grouped_feature_list:\n",
    "        correlated_block = cordata[cordata.feature1 == feature]\n",
    "        grouped_feature_list = grouped_feature_list + list(correlated_block.feature2.unique()) + [feature]\n",
    "        correlated_groups_list.append(correlated_block)\n",
    "        "
   ]
  },
  {
   "cell_type": "code",
   "execution_count": 63,
   "metadata": {},
   "outputs": [
    {
     "data": {
      "text/plain": [
       "46"
      ]
     },
     "execution_count": 63,
     "metadata": {},
     "output_type": "execute_result"
    }
   ],
   "source": [
    "len(correlated_groups_list)"
   ]
  },
  {
   "cell_type": "code",
   "execution_count": 64,
   "metadata": {},
   "outputs": [
    {
     "data": {
      "text/plain": [
       "((16000, 370), (16000, 94))"
      ]
     },
     "execution_count": 64,
     "metadata": {},
     "output_type": "execute_result"
    }
   ],
   "source": [
    "X_train.shape, X_train_uncorr.shape"
   ]
  },
  {
   "cell_type": "code",
   "execution_count": 65,
   "metadata": {},
   "outputs": [
    {
     "name": "stdout",
     "output_type": "stream",
     "text": [
      "   feature1  feature2  Corr_Value\n",
      "0       107        99         1.0\n",
      "   feature1  feature2  Corr_Value\n",
      "2        92       100         1.0\n",
      "   feature1  feature2  Corr_Value\n",
      "4       121        97         1.0\n",
      "    feature1  feature2  Corr_Value\n",
      "6        186       113    1.000000\n",
      "16       186       112    0.999929\n",
      "   feature1  feature2  Corr_Value\n",
      "8        96       118         1.0\n",
      "    feature1  feature2  Corr_Value\n",
      "10       110       179    0.999997\n",
      "27       110       178    0.999778\n",
      "46       110       180    0.997052\n",
      "56       110       181    0.996772\n",
      "65       110        77    0.996424\n",
      "74       110        84    0.993307\n",
      "     feature1  feature2  Corr_Value\n",
      "12         86       187    0.999945\n",
      "32         86       188    0.998991\n",
      "183        86       185    0.941404\n",
      "    feature1  feature2  Corr_Value\n",
      "24        53        49    0.999859\n",
      "     feature1  feature2  Corr_Value\n",
      "30         72        79    0.999478\n",
      "81         72       168    0.992870\n",
      "97         72        89    0.987333\n",
      "116        72       169    0.982474\n",
      "196        72       166    0.933815\n",
      "     feature1  feature2  Corr_Value\n",
      "34        147       149    0.998753\n",
      "254       147       146    0.904740\n",
      "264       147       148    0.899675\n",
      "     feature1  feature2  Corr_Value\n",
      "38        134       157    0.997718\n",
      "234       134       154    0.911453\n",
      "319       134       156    0.871801\n",
      "     feature1  feature2  Corr_Value\n",
      "60         17        14    0.996739\n",
      "272        17        16    0.890442\n",
      "278        17        13    0.888669\n",
      "     feature1  feature2  Corr_Value\n",
      "72        191       192    0.993536\n",
      "104       191        90    0.986744\n",
      "195       191       189    0.935317\n",
      "     feature1  feature2  Corr_Value\n",
      "78         27        20    0.992882\n",
      "267        27       135    0.899063\n",
      "     feature1  feature2  Corr_Value\n",
      "84         23        22    0.990593\n",
      "236        23        65    0.911272\n",
      "298        23        63    0.880435\n",
      "     feature1  feature2  Corr_Value\n",
      "86         48        52    0.989793\n",
      "314        48        51    0.874240\n",
      "343        48        55    0.858529\n",
      "     feature1  feature2  Corr_Value\n",
      "88        172        73    0.989341\n",
      "90        172       173    0.988642\n",
      "205       172       170    0.928651\n",
      "303       172        75    0.878269\n",
      "    feature1  feature2  Corr_Value\n",
      "94         8         9    0.988256\n",
      "     feature1  feature2  Corr_Value\n",
      "98        177       176    0.987304\n",
      "153       177       174    0.957862\n",
      "     feature1  feature2  Corr_Value\n",
      "100        81        80    0.987013\n",
      "     feature1  feature2  Corr_Value\n",
      "106        59        25    0.985951\n",
      "     feature1  feature2  Corr_Value\n",
      "110        46        47    0.984751\n",
      "330        46       142    0.866725\n",
      "     feature1  feature2  Corr_Value\n",
      "112        18        15    0.983164\n",
      "317        18        16    0.872133\n",
      "323        18        13    0.870936\n",
      "     feature1  feature2  Corr_Value\n",
      "114       164        71    0.983156\n",
      "121       164       165    0.981815\n",
      "     feature1  feature2  Corr_Value\n",
      "126        33        34    0.980020\n",
      "149        33       138    0.958837\n",
      "     feature1  feature2  Corr_Value\n",
      "130        37        32    0.976942\n",
      "340        37        34    0.858830\n",
      "     feature1  feature2  Corr_Value\n",
      "132        54        50    0.973140\n",
      "184        54       140    0.938960\n",
      "190        54        55    0.936080\n",
      "215        54       144    0.919405\n",
      "241        54        51    0.910385\n",
      "344        54       141    0.858484\n",
      "     feature1  feature2  Corr_Value\n",
      "136        41        43    0.972088\n",
      "     feature1  feature2  Corr_Value\n",
      "140        36        35    0.968504\n",
      "     feature1  feature2  Corr_Value\n",
      "146       143       142    0.959258\n",
      "327       143        47    0.870551\n",
      "     feature1  feature2  Corr_Value\n",
      "155       145       141    0.956666\n",
      "212       145        51    0.920961\n",
      "224       145       144    0.916442\n",
      "262       145        55    0.902276\n",
      "289       145       140    0.882312\n",
      "339       145        50    0.859806\n",
      "     feature1  feature2  Corr_Value\n",
      "162       184       183    0.950232\n",
      "238       184        70    0.911179\n",
      "     feature1  feature2  Corr_Value\n",
      "164        10        68    0.948845\n",
      "     feature1  feature2  Corr_Value\n",
      "168        40        39    0.946571\n",
      "226        40        31    0.914178\n",
      "286        40       137    0.884383\n",
      "     feature1  feature2  Corr_Value\n",
      "172       133       132    0.945288\n",
      "     feature1  feature2  Corr_Value\n",
      "174       115       190    0.944812\n",
      "     feature1  feature2  Corr_Value\n",
      "178         5        12    0.943622\n",
      "277         5         4    0.888789\n",
      "     feature1  feature2  Corr_Value\n",
      "188        11         4    0.938409\n",
      "295        11        12    0.881673\n",
      "     feature1  feature2  Corr_Value\n",
      "192        60        61    0.935867\n",
      "     feature1  feature2  Corr_Value\n",
      "206        29        28    0.927683\n",
      "220        29       136    0.917206\n",
      "     feature1  feature2  Corr_Value\n",
      "218       153       127    0.918533\n",
      "     feature1  feature2  Corr_Value\n",
      "243        45        47    0.908497\n",
      "     feature1  feature2  Corr_Value\n",
      "244         6         7    0.908158\n",
      "     feature1  feature2  Corr_Value\n",
      "258        57        67    0.903641\n",
      "301        57        21    0.879907\n",
      "     feature1  feature2  Corr_Value\n",
      "268        95       117     0.89633\n",
      "     feature1  feature2  Corr_Value\n",
      "284        66        30    0.886309\n"
     ]
    }
   ],
   "source": [
    "for group in correlated_groups_list:\n",
    "    print(group)"
   ]
  },
  {
   "cell_type": "markdown",
   "metadata": {},
   "source": [
    "# Feature importance based on tree based classifers"
   ]
  },
  {
   "cell_type": "code",
   "execution_count": 69,
   "metadata": {},
   "outputs": [],
   "source": [
    "important_features = []\n",
    "for group in correlated_groups_list:\n",
    "    features = list(group.feature1.unique()) + list(group.feature2.unique())\n",
    "    rf = RandomForestClassifier(n_estimators=100, random_state=0)\n",
    "    rf.fit(X_train_unique[features], y_train)\n",
    "    \n",
    "    importance = pd.concat([pd.Series(features), pd.Series(rf.feature_importances_)], axis=1)\n",
    "    importance.columns = ['features', 'importance']\n",
    "    importance.sort_values(by='importance', ascending = False, inplace = True)\n",
    "    feat = importance.iloc[0]\n",
    "    important_features.append(feat)\n",
    "                \n",
    "    \n",
    "                    \n",
    "    \n",
    "    "
   ]
  },
  {
   "cell_type": "code",
   "execution_count": 70,
   "metadata": {},
   "outputs": [
    {
     "data": {
      "text/plain": [
       "[features      99.00\n",
       " importance     0.51\n",
       " Name: 1, dtype: float64,\n",
       " features      100.000000\n",
       " importance      0.506959\n",
       " Name: 1, dtype: float64,\n",
       " features      121.000000\n",
       " importance      0.523077\n",
       " Name: 0, dtype: float64,\n",
       " features      112.000000\n",
       " importance      0.624498\n",
       " Name: 2, dtype: float64,\n",
       " features      118.000000\n",
       " importance      0.565217\n",
       " Name: 1, dtype: float64,\n",
       " features      84.000000\n",
       " importance     0.750233\n",
       " Name: 6, dtype: float64,\n",
       " features      187.000000\n",
       " importance      0.343434\n",
       " Name: 1, dtype: float64,\n",
       " features      53.000000\n",
       " importance     0.518827\n",
       " Name: 0, dtype: float64,\n",
       " features      89.000000\n",
       " importance     0.940524\n",
       " Name: 3, dtype: float64,\n",
       " features      147.000000\n",
       " importance      0.287753\n",
       " Name: 0, dtype: float64,\n",
       " features      156.000000\n",
       " importance      0.312834\n",
       " Name: 3, dtype: float64,\n",
       " features      17.000000\n",
       " importance     0.286833\n",
       " Name: 0, dtype: float64,\n",
       " features      192.000000\n",
       " importance      0.431557\n",
       " Name: 1, dtype: float64,\n",
       " features      135.000000\n",
       " importance      0.432045\n",
       " Name: 2, dtype: float64,\n",
       " features      63.000000\n",
       " importance     0.480863\n",
       " Name: 3, dtype: float64,\n",
       " features      55.000000\n",
       " importance     0.299008\n",
       " Name: 3, dtype: float64,\n",
       " features      170.000000\n",
       " importance      0.281581\n",
       " Name: 3, dtype: float64,\n",
       " features      8.000000\n",
       " importance    0.556436\n",
       " Name: 0, dtype: float64,\n",
       " features      176.000000\n",
       " importance      0.434186\n",
       " Name: 1, dtype: float64,\n",
       " features      80.00000\n",
       " importance     0.52438\n",
       " Name: 1, dtype: float64,\n",
       " features      25.000000\n",
       " importance     0.500161\n",
       " Name: 1, dtype: float64,\n",
       " features      142.000000\n",
       " importance      0.494814\n",
       " Name: 2, dtype: float64,\n",
       " features      15.000000\n",
       " importance     0.400677\n",
       " Name: 1, dtype: float64,\n",
       " features      71.000000\n",
       " importance     0.349126\n",
       " Name: 1, dtype: float64,\n",
       " features      138.000000\n",
       " importance      0.466846\n",
       " Name: 2, dtype: float64,\n",
       " features      32.000000\n",
       " importance     0.456515\n",
       " Name: 1, dtype: float64,\n",
       " features      141.000000\n",
       " importance      0.229269\n",
       " Name: 6, dtype: float64,\n",
       " features      43.0000\n",
       " importance     0.5556\n",
       " Name: 1, dtype: float64,\n",
       " features      35.000000\n",
       " importance     0.520009\n",
       " Name: 1, dtype: float64,\n",
       " features      143.000000\n",
       " importance      0.368931\n",
       " Name: 0, dtype: float64,\n",
       " features      50.000000\n",
       " importance     0.213903\n",
       " Name: 6, dtype: float64,\n",
       " features      183.000000\n",
       " importance      0.469178\n",
       " Name: 1, dtype: float64,\n",
       " features      68.000000\n",
       " importance     0.640915\n",
       " Name: 1, dtype: float64,\n",
       " features      137.000000\n",
       " importance      0.427018\n",
       " Name: 3, dtype: float64,\n",
       " features      132.000000\n",
       " importance      0.634779\n",
       " Name: 1, dtype: float64,\n",
       " features      190.00\n",
       " importance      0.51\n",
       " Name: 1, dtype: float64,\n",
       " features      5.000000\n",
       " importance    0.356855\n",
       " Name: 0, dtype: float64,\n",
       " features      12.000000\n",
       " importance     0.397326\n",
       " Name: 2, dtype: float64,\n",
       " features      61.000000\n",
       " importance     0.538655\n",
       " Name: 1, dtype: float64,\n",
       " features      28.000000\n",
       " importance     0.483736\n",
       " Name: 1, dtype: float64,\n",
       " features      127.000000\n",
       " importance      0.755765\n",
       " Name: 1, dtype: float64,\n",
       " features      47.00000\n",
       " importance     0.87905\n",
       " Name: 1, dtype: float64,\n",
       " features      7.000000\n",
       " importance    0.545702\n",
       " Name: 1, dtype: float64,\n",
       " features      67.000000\n",
       " importance     0.379546\n",
       " Name: 1, dtype: float64,\n",
       " features      117.000000\n",
       " importance      0.515152\n",
       " Name: 1, dtype: float64,\n",
       " features      30.000000\n",
       " importance     0.573428\n",
       " Name: 1, dtype: float64]"
      ]
     },
     "execution_count": 70,
     "metadata": {},
     "output_type": "execute_result"
    }
   ],
   "source": [
    "important_features"
   ]
  },
  {
   "cell_type": "code",
   "execution_count": 71,
   "metadata": {},
   "outputs": [],
   "source": [
    "important_features = pd.DataFrame(important_features)"
   ]
  },
  {
   "cell_type": "code",
   "execution_count": 72,
   "metadata": {},
   "outputs": [],
   "source": [
    "important_features.reset_index(inplace=True, drop=True)"
   ]
  },
  {
   "cell_type": "code",
   "execution_count": 73,
   "metadata": {},
   "outputs": [
    {
     "data": {
      "text/html": [
       "<div>\n",
       "<style scoped>\n",
       "    .dataframe tbody tr th:only-of-type {\n",
       "        vertical-align: middle;\n",
       "    }\n",
       "\n",
       "    .dataframe tbody tr th {\n",
       "        vertical-align: top;\n",
       "    }\n",
       "\n",
       "    .dataframe thead th {\n",
       "        text-align: right;\n",
       "    }\n",
       "</style>\n",
       "<table border=\"1\" class=\"dataframe\">\n",
       "  <thead>\n",
       "    <tr style=\"text-align: right;\">\n",
       "      <th></th>\n",
       "      <th>features</th>\n",
       "      <th>importance</th>\n",
       "    </tr>\n",
       "  </thead>\n",
       "  <tbody>\n",
       "    <tr>\n",
       "      <th>0</th>\n",
       "      <td>99.0</td>\n",
       "      <td>0.510000</td>\n",
       "    </tr>\n",
       "    <tr>\n",
       "      <th>1</th>\n",
       "      <td>100.0</td>\n",
       "      <td>0.506959</td>\n",
       "    </tr>\n",
       "    <tr>\n",
       "      <th>2</th>\n",
       "      <td>121.0</td>\n",
       "      <td>0.523077</td>\n",
       "    </tr>\n",
       "    <tr>\n",
       "      <th>3</th>\n",
       "      <td>112.0</td>\n",
       "      <td>0.624498</td>\n",
       "    </tr>\n",
       "    <tr>\n",
       "      <th>4</th>\n",
       "      <td>118.0</td>\n",
       "      <td>0.565217</td>\n",
       "    </tr>\n",
       "    <tr>\n",
       "      <th>5</th>\n",
       "      <td>84.0</td>\n",
       "      <td>0.750233</td>\n",
       "    </tr>\n",
       "    <tr>\n",
       "      <th>6</th>\n",
       "      <td>187.0</td>\n",
       "      <td>0.343434</td>\n",
       "    </tr>\n",
       "    <tr>\n",
       "      <th>7</th>\n",
       "      <td>53.0</td>\n",
       "      <td>0.518827</td>\n",
       "    </tr>\n",
       "    <tr>\n",
       "      <th>8</th>\n",
       "      <td>89.0</td>\n",
       "      <td>0.940524</td>\n",
       "    </tr>\n",
       "    <tr>\n",
       "      <th>9</th>\n",
       "      <td>147.0</td>\n",
       "      <td>0.287753</td>\n",
       "    </tr>\n",
       "    <tr>\n",
       "      <th>10</th>\n",
       "      <td>156.0</td>\n",
       "      <td>0.312834</td>\n",
       "    </tr>\n",
       "    <tr>\n",
       "      <th>11</th>\n",
       "      <td>17.0</td>\n",
       "      <td>0.286833</td>\n",
       "    </tr>\n",
       "    <tr>\n",
       "      <th>12</th>\n",
       "      <td>192.0</td>\n",
       "      <td>0.431557</td>\n",
       "    </tr>\n",
       "    <tr>\n",
       "      <th>13</th>\n",
       "      <td>135.0</td>\n",
       "      <td>0.432045</td>\n",
       "    </tr>\n",
       "    <tr>\n",
       "      <th>14</th>\n",
       "      <td>63.0</td>\n",
       "      <td>0.480863</td>\n",
       "    </tr>\n",
       "    <tr>\n",
       "      <th>15</th>\n",
       "      <td>55.0</td>\n",
       "      <td>0.299008</td>\n",
       "    </tr>\n",
       "    <tr>\n",
       "      <th>16</th>\n",
       "      <td>170.0</td>\n",
       "      <td>0.281581</td>\n",
       "    </tr>\n",
       "    <tr>\n",
       "      <th>17</th>\n",
       "      <td>8.0</td>\n",
       "      <td>0.556436</td>\n",
       "    </tr>\n",
       "    <tr>\n",
       "      <th>18</th>\n",
       "      <td>176.0</td>\n",
       "      <td>0.434186</td>\n",
       "    </tr>\n",
       "    <tr>\n",
       "      <th>19</th>\n",
       "      <td>80.0</td>\n",
       "      <td>0.524380</td>\n",
       "    </tr>\n",
       "    <tr>\n",
       "      <th>20</th>\n",
       "      <td>25.0</td>\n",
       "      <td>0.500161</td>\n",
       "    </tr>\n",
       "    <tr>\n",
       "      <th>21</th>\n",
       "      <td>142.0</td>\n",
       "      <td>0.494814</td>\n",
       "    </tr>\n",
       "    <tr>\n",
       "      <th>22</th>\n",
       "      <td>15.0</td>\n",
       "      <td>0.400677</td>\n",
       "    </tr>\n",
       "    <tr>\n",
       "      <th>23</th>\n",
       "      <td>71.0</td>\n",
       "      <td>0.349126</td>\n",
       "    </tr>\n",
       "    <tr>\n",
       "      <th>24</th>\n",
       "      <td>138.0</td>\n",
       "      <td>0.466846</td>\n",
       "    </tr>\n",
       "    <tr>\n",
       "      <th>25</th>\n",
       "      <td>32.0</td>\n",
       "      <td>0.456515</td>\n",
       "    </tr>\n",
       "    <tr>\n",
       "      <th>26</th>\n",
       "      <td>141.0</td>\n",
       "      <td>0.229269</td>\n",
       "    </tr>\n",
       "    <tr>\n",
       "      <th>27</th>\n",
       "      <td>43.0</td>\n",
       "      <td>0.555600</td>\n",
       "    </tr>\n",
       "    <tr>\n",
       "      <th>28</th>\n",
       "      <td>35.0</td>\n",
       "      <td>0.520009</td>\n",
       "    </tr>\n",
       "    <tr>\n",
       "      <th>29</th>\n",
       "      <td>143.0</td>\n",
       "      <td>0.368931</td>\n",
       "    </tr>\n",
       "    <tr>\n",
       "      <th>30</th>\n",
       "      <td>50.0</td>\n",
       "      <td>0.213903</td>\n",
       "    </tr>\n",
       "    <tr>\n",
       "      <th>31</th>\n",
       "      <td>183.0</td>\n",
       "      <td>0.469178</td>\n",
       "    </tr>\n",
       "    <tr>\n",
       "      <th>32</th>\n",
       "      <td>68.0</td>\n",
       "      <td>0.640915</td>\n",
       "    </tr>\n",
       "    <tr>\n",
       "      <th>33</th>\n",
       "      <td>137.0</td>\n",
       "      <td>0.427018</td>\n",
       "    </tr>\n",
       "    <tr>\n",
       "      <th>34</th>\n",
       "      <td>132.0</td>\n",
       "      <td>0.634779</td>\n",
       "    </tr>\n",
       "    <tr>\n",
       "      <th>35</th>\n",
       "      <td>190.0</td>\n",
       "      <td>0.510000</td>\n",
       "    </tr>\n",
       "    <tr>\n",
       "      <th>36</th>\n",
       "      <td>5.0</td>\n",
       "      <td>0.356855</td>\n",
       "    </tr>\n",
       "    <tr>\n",
       "      <th>37</th>\n",
       "      <td>12.0</td>\n",
       "      <td>0.397326</td>\n",
       "    </tr>\n",
       "    <tr>\n",
       "      <th>38</th>\n",
       "      <td>61.0</td>\n",
       "      <td>0.538655</td>\n",
       "    </tr>\n",
       "    <tr>\n",
       "      <th>39</th>\n",
       "      <td>28.0</td>\n",
       "      <td>0.483736</td>\n",
       "    </tr>\n",
       "    <tr>\n",
       "      <th>40</th>\n",
       "      <td>127.0</td>\n",
       "      <td>0.755765</td>\n",
       "    </tr>\n",
       "    <tr>\n",
       "      <th>41</th>\n",
       "      <td>47.0</td>\n",
       "      <td>0.879050</td>\n",
       "    </tr>\n",
       "    <tr>\n",
       "      <th>42</th>\n",
       "      <td>7.0</td>\n",
       "      <td>0.545702</td>\n",
       "    </tr>\n",
       "    <tr>\n",
       "      <th>43</th>\n",
       "      <td>67.0</td>\n",
       "      <td>0.379546</td>\n",
       "    </tr>\n",
       "    <tr>\n",
       "      <th>44</th>\n",
       "      <td>117.0</td>\n",
       "      <td>0.515152</td>\n",
       "    </tr>\n",
       "    <tr>\n",
       "      <th>45</th>\n",
       "      <td>30.0</td>\n",
       "      <td>0.573428</td>\n",
       "    </tr>\n",
       "  </tbody>\n",
       "</table>\n",
       "</div>"
      ],
      "text/plain": [
       "    features  importance\n",
       "0       99.0    0.510000\n",
       "1      100.0    0.506959\n",
       "2      121.0    0.523077\n",
       "3      112.0    0.624498\n",
       "4      118.0    0.565217\n",
       "5       84.0    0.750233\n",
       "6      187.0    0.343434\n",
       "7       53.0    0.518827\n",
       "8       89.0    0.940524\n",
       "9      147.0    0.287753\n",
       "10     156.0    0.312834\n",
       "11      17.0    0.286833\n",
       "12     192.0    0.431557\n",
       "13     135.0    0.432045\n",
       "14      63.0    0.480863\n",
       "15      55.0    0.299008\n",
       "16     170.0    0.281581\n",
       "17       8.0    0.556436\n",
       "18     176.0    0.434186\n",
       "19      80.0    0.524380\n",
       "20      25.0    0.500161\n",
       "21     142.0    0.494814\n",
       "22      15.0    0.400677\n",
       "23      71.0    0.349126\n",
       "24     138.0    0.466846\n",
       "25      32.0    0.456515\n",
       "26     141.0    0.229269\n",
       "27      43.0    0.555600\n",
       "28      35.0    0.520009\n",
       "29     143.0    0.368931\n",
       "30      50.0    0.213903\n",
       "31     183.0    0.469178\n",
       "32      68.0    0.640915\n",
       "33     137.0    0.427018\n",
       "34     132.0    0.634779\n",
       "35     190.0    0.510000\n",
       "36       5.0    0.356855\n",
       "37      12.0    0.397326\n",
       "38      61.0    0.538655\n",
       "39      28.0    0.483736\n",
       "40     127.0    0.755765\n",
       "41      47.0    0.879050\n",
       "42       7.0    0.545702\n",
       "43      67.0    0.379546\n",
       "44     117.0    0.515152\n",
       "45      30.0    0.573428"
      ]
     },
     "execution_count": 73,
     "metadata": {},
     "output_type": "execute_result"
    }
   ],
   "source": [
    "important_features"
   ]
  },
  {
   "cell_type": "code",
   "execution_count": 74,
   "metadata": {},
   "outputs": [],
   "source": [
    "features_to_consider = set(important_features['features'])"
   ]
  },
  {
   "cell_type": "code",
   "execution_count": 75,
   "metadata": {},
   "outputs": [],
   "source": [
    "features_to_discard = set(cor_features) - set(features_to_consider)"
   ]
  },
  {
   "cell_type": "code",
   "execution_count": 76,
   "metadata": {},
   "outputs": [],
   "source": [
    "features_to_discard = list(features_to_discard)"
   ]
  },
  {
   "cell_type": "code",
   "execution_count": 78,
   "metadata": {},
   "outputs": [
    {
     "data": {
      "text/plain": [
       "(16000, 127)"
      ]
     },
     "execution_count": 78,
     "metadata": {},
     "output_type": "execute_result"
    }
   ],
   "source": [
    "X_train_grouped_uncorr = X_train_unique.drop(labels=features_to_discard, axis = 1)\n",
    "X_train_grouped_uncorr.shape"
   ]
  },
  {
   "cell_type": "code",
   "execution_count": 79,
   "metadata": {},
   "outputs": [
    {
     "data": {
      "text/plain": [
       "(4000, 127)"
      ]
     },
     "execution_count": 79,
     "metadata": {},
     "output_type": "execute_result"
    }
   ],
   "source": [
    "X_test_grouped_uncorr = X_test_unique.drop(labels=features_to_discard, axis = 1)\n",
    "X_test_grouped_uncorr.shape"
   ]
  },
  {
   "cell_type": "code",
   "execution_count": 80,
   "metadata": {},
   "outputs": [
    {
     "name": "stdout",
     "output_type": "stream",
     "text": [
      "Acc on test set\n",
      "0.95725\n",
      "CPU times: user 4.57 s, sys: 120 ms, total: 4.69 s\n",
      "Wall time: 983 ms\n"
     ]
    }
   ],
   "source": [
    "%%time\n",
    "run_randomforest(X_train_grouped_uncorr, X_test_grouped_uncorr, y_train, y_test)"
   ]
  },
  {
   "cell_type": "code",
   "execution_count": 81,
   "metadata": {},
   "outputs": [
    {
     "name": "stdout",
     "output_type": "stream",
     "text": [
      "Acc on test set\n",
      "0.95825\n",
      "CPU times: user 3.75 s, sys: 96.8 ms, total: 3.85 s\n",
      "Wall time: 879 ms\n"
     ]
    }
   ],
   "source": [
    "%%time\n",
    "run_randomforest(X_train_uncorr, X_test_uncorr, y_train, y_test)"
   ]
  },
  {
   "cell_type": "code",
   "execution_count": 82,
   "metadata": {},
   "outputs": [
    {
     "name": "stdout",
     "output_type": "stream",
     "text": [
      "Acc on test set\n",
      "0.9585\n",
      "CPU times: user 8.83 s, sys: 183 ms, total: 9.02 s\n",
      "Wall time: 1.78 s\n"
     ]
    }
   ],
   "source": [
    "%%time\n",
    "run_randomforest(X_train, X_test, y_train, y_test)"
   ]
  },
  {
   "cell_type": "code",
   "execution_count": null,
   "metadata": {},
   "outputs": [],
   "source": []
  }
 ],
 "metadata": {
  "kernelspec": {
   "display_name": "Python 3",
   "language": "python",
   "name": "python3"
  },
  "language_info": {
   "codemirror_mode": {
    "name": "ipython",
    "version": 3
   },
   "file_extension": ".py",
   "mimetype": "text/x-python",
   "name": "python",
   "nbconvert_exporter": "python",
   "pygments_lexer": "ipython3",
   "version": "3.7.6"
  }
 },
 "nbformat": 4,
 "nbformat_minor": 4
}
