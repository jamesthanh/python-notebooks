{
 "cells": [
  {
   "cell_type": "markdown",
   "metadata": {},
   "source": [
    "# Feature Selection Reduction using LDA and PCA"
   ]
  },
  {
   "cell_type": "code",
   "execution_count": 1,
   "metadata": {},
   "outputs": [],
   "source": [
    "import numpy as np\n",
    "import pandas as pd\n",
    "import matplotlib.pyplot as plt\n",
    "import seaborn as sns\n",
    "%matplotlib inline"
   ]
  },
  {
   "cell_type": "code",
   "execution_count": 2,
   "metadata": {},
   "outputs": [],
   "source": [
    "from sklearn.model_selection import train_test_split\n",
    "from sklearn.ensemble import RandomForestClassifier\n",
    "from sklearn.metrics import accuracy_score, roc_auc_score\n",
    "from sklearn.feature_selection import VarianceThreshold\n",
    "from sklearn.preprocessing import StandardScaler"
   ]
  },
  {
   "cell_type": "code",
   "execution_count": 3,
   "metadata": {},
   "outputs": [
    {
     "data": {
      "text/html": [
       "<div>\n",
       "<style scoped>\n",
       "    .dataframe tbody tr th:only-of-type {\n",
       "        vertical-align: middle;\n",
       "    }\n",
       "\n",
       "    .dataframe tbody tr th {\n",
       "        vertical-align: top;\n",
       "    }\n",
       "\n",
       "    .dataframe thead th {\n",
       "        text-align: right;\n",
       "    }\n",
       "</style>\n",
       "<table border=\"1\" class=\"dataframe\">\n",
       "  <thead>\n",
       "    <tr style=\"text-align: right;\">\n",
       "      <th></th>\n",
       "      <th>ID</th>\n",
       "      <th>var3</th>\n",
       "      <th>var15</th>\n",
       "      <th>imp_ent_var16_ult1</th>\n",
       "      <th>imp_op_var39_comer_ult1</th>\n",
       "      <th>imp_op_var39_comer_ult3</th>\n",
       "      <th>imp_op_var40_comer_ult1</th>\n",
       "      <th>imp_op_var40_comer_ult3</th>\n",
       "      <th>imp_op_var40_efect_ult1</th>\n",
       "      <th>imp_op_var40_efect_ult3</th>\n",
       "      <th>...</th>\n",
       "      <th>saldo_medio_var33_hace2</th>\n",
       "      <th>saldo_medio_var33_hace3</th>\n",
       "      <th>saldo_medio_var33_ult1</th>\n",
       "      <th>saldo_medio_var33_ult3</th>\n",
       "      <th>saldo_medio_var44_hace2</th>\n",
       "      <th>saldo_medio_var44_hace3</th>\n",
       "      <th>saldo_medio_var44_ult1</th>\n",
       "      <th>saldo_medio_var44_ult3</th>\n",
       "      <th>var38</th>\n",
       "      <th>TARGET</th>\n",
       "    </tr>\n",
       "  </thead>\n",
       "  <tbody>\n",
       "    <tr>\n",
       "      <th>0</th>\n",
       "      <td>1</td>\n",
       "      <td>2</td>\n",
       "      <td>23</td>\n",
       "      <td>0.0</td>\n",
       "      <td>0.0</td>\n",
       "      <td>0.0</td>\n",
       "      <td>0.0</td>\n",
       "      <td>0.0</td>\n",
       "      <td>0</td>\n",
       "      <td>0</td>\n",
       "      <td>...</td>\n",
       "      <td>0.0</td>\n",
       "      <td>0.0</td>\n",
       "      <td>0.0</td>\n",
       "      <td>0.0</td>\n",
       "      <td>0.0</td>\n",
       "      <td>0.0</td>\n",
       "      <td>0.0</td>\n",
       "      <td>0.0</td>\n",
       "      <td>39205.170000</td>\n",
       "      <td>0</td>\n",
       "    </tr>\n",
       "    <tr>\n",
       "      <th>1</th>\n",
       "      <td>3</td>\n",
       "      <td>2</td>\n",
       "      <td>34</td>\n",
       "      <td>0.0</td>\n",
       "      <td>0.0</td>\n",
       "      <td>0.0</td>\n",
       "      <td>0.0</td>\n",
       "      <td>0.0</td>\n",
       "      <td>0</td>\n",
       "      <td>0</td>\n",
       "      <td>...</td>\n",
       "      <td>0.0</td>\n",
       "      <td>0.0</td>\n",
       "      <td>0.0</td>\n",
       "      <td>0.0</td>\n",
       "      <td>0.0</td>\n",
       "      <td>0.0</td>\n",
       "      <td>0.0</td>\n",
       "      <td>0.0</td>\n",
       "      <td>49278.030000</td>\n",
       "      <td>0</td>\n",
       "    </tr>\n",
       "    <tr>\n",
       "      <th>2</th>\n",
       "      <td>4</td>\n",
       "      <td>2</td>\n",
       "      <td>23</td>\n",
       "      <td>0.0</td>\n",
       "      <td>0.0</td>\n",
       "      <td>0.0</td>\n",
       "      <td>0.0</td>\n",
       "      <td>0.0</td>\n",
       "      <td>0</td>\n",
       "      <td>0</td>\n",
       "      <td>...</td>\n",
       "      <td>0.0</td>\n",
       "      <td>0.0</td>\n",
       "      <td>0.0</td>\n",
       "      <td>0.0</td>\n",
       "      <td>0.0</td>\n",
       "      <td>0.0</td>\n",
       "      <td>0.0</td>\n",
       "      <td>0.0</td>\n",
       "      <td>67333.770000</td>\n",
       "      <td>0</td>\n",
       "    </tr>\n",
       "    <tr>\n",
       "      <th>3</th>\n",
       "      <td>8</td>\n",
       "      <td>2</td>\n",
       "      <td>37</td>\n",
       "      <td>0.0</td>\n",
       "      <td>195.0</td>\n",
       "      <td>195.0</td>\n",
       "      <td>0.0</td>\n",
       "      <td>0.0</td>\n",
       "      <td>0</td>\n",
       "      <td>0</td>\n",
       "      <td>...</td>\n",
       "      <td>0.0</td>\n",
       "      <td>0.0</td>\n",
       "      <td>0.0</td>\n",
       "      <td>0.0</td>\n",
       "      <td>0.0</td>\n",
       "      <td>0.0</td>\n",
       "      <td>0.0</td>\n",
       "      <td>0.0</td>\n",
       "      <td>64007.970000</td>\n",
       "      <td>0</td>\n",
       "    </tr>\n",
       "    <tr>\n",
       "      <th>4</th>\n",
       "      <td>10</td>\n",
       "      <td>2</td>\n",
       "      <td>39</td>\n",
       "      <td>0.0</td>\n",
       "      <td>0.0</td>\n",
       "      <td>0.0</td>\n",
       "      <td>0.0</td>\n",
       "      <td>0.0</td>\n",
       "      <td>0</td>\n",
       "      <td>0</td>\n",
       "      <td>...</td>\n",
       "      <td>0.0</td>\n",
       "      <td>0.0</td>\n",
       "      <td>0.0</td>\n",
       "      <td>0.0</td>\n",
       "      <td>0.0</td>\n",
       "      <td>0.0</td>\n",
       "      <td>0.0</td>\n",
       "      <td>0.0</td>\n",
       "      <td>117310.979016</td>\n",
       "      <td>0</td>\n",
       "    </tr>\n",
       "  </tbody>\n",
       "</table>\n",
       "<p>5 rows × 371 columns</p>\n",
       "</div>"
      ],
      "text/plain": [
       "   ID  var3  var15  imp_ent_var16_ult1  imp_op_var39_comer_ult1  \\\n",
       "0   1     2     23                 0.0                      0.0   \n",
       "1   3     2     34                 0.0                      0.0   \n",
       "2   4     2     23                 0.0                      0.0   \n",
       "3   8     2     37                 0.0                    195.0   \n",
       "4  10     2     39                 0.0                      0.0   \n",
       "\n",
       "   imp_op_var39_comer_ult3  imp_op_var40_comer_ult1  imp_op_var40_comer_ult3  \\\n",
       "0                      0.0                      0.0                      0.0   \n",
       "1                      0.0                      0.0                      0.0   \n",
       "2                      0.0                      0.0                      0.0   \n",
       "3                    195.0                      0.0                      0.0   \n",
       "4                      0.0                      0.0                      0.0   \n",
       "\n",
       "   imp_op_var40_efect_ult1  imp_op_var40_efect_ult3  ...  \\\n",
       "0                        0                        0  ...   \n",
       "1                        0                        0  ...   \n",
       "2                        0                        0  ...   \n",
       "3                        0                        0  ...   \n",
       "4                        0                        0  ...   \n",
       "\n",
       "   saldo_medio_var33_hace2  saldo_medio_var33_hace3  saldo_medio_var33_ult1  \\\n",
       "0                      0.0                      0.0                     0.0   \n",
       "1                      0.0                      0.0                     0.0   \n",
       "2                      0.0                      0.0                     0.0   \n",
       "3                      0.0                      0.0                     0.0   \n",
       "4                      0.0                      0.0                     0.0   \n",
       "\n",
       "   saldo_medio_var33_ult3  saldo_medio_var44_hace2  saldo_medio_var44_hace3  \\\n",
       "0                     0.0                      0.0                      0.0   \n",
       "1                     0.0                      0.0                      0.0   \n",
       "2                     0.0                      0.0                      0.0   \n",
       "3                     0.0                      0.0                      0.0   \n",
       "4                     0.0                      0.0                      0.0   \n",
       "\n",
       "   saldo_medio_var44_ult1  saldo_medio_var44_ult3          var38  TARGET  \n",
       "0                     0.0                     0.0   39205.170000       0  \n",
       "1                     0.0                     0.0   49278.030000       0  \n",
       "2                     0.0                     0.0   67333.770000       0  \n",
       "3                     0.0                     0.0   64007.970000       0  \n",
       "4                     0.0                     0.0  117310.979016       0  \n",
       "\n",
       "[5 rows x 371 columns]"
      ]
     },
     "execution_count": 3,
     "metadata": {},
     "output_type": "execute_result"
    }
   ],
   "source": [
    "data = pd.read_csv('santander-train.csv', nrows = 20000)\n",
    "data.head()"
   ]
  },
  {
   "cell_type": "code",
   "execution_count": 4,
   "metadata": {},
   "outputs": [
    {
     "data": {
      "text/plain": [
       "((20000, 370), (20000,))"
      ]
     },
     "execution_count": 4,
     "metadata": {},
     "output_type": "execute_result"
    }
   ],
   "source": [
    "X = data.drop('TARGET', axis = 1)\n",
    "y = data['TARGET']\n",
    "X.shape, y.shape"
   ]
  },
  {
   "cell_type": "code",
   "execution_count": 5,
   "metadata": {},
   "outputs": [],
   "source": [
    "X_train, X_test, y_train, y_test = train_test_split(X, y, test_size=0.2, random_state =0, stratify = y)\n"
   ]
  },
  {
   "cell_type": "markdown",
   "metadata": {},
   "source": [
    "# Remove Constant, Quasi, and Duplicated"
   ]
  },
  {
   "cell_type": "code",
   "execution_count": 6,
   "metadata": {},
   "outputs": [],
   "source": [
    "\n",
    "constant_filter = VarianceThreshold(threshold=0.01)\n",
    "constant_filter.fit(X_train)\n",
    "X_train_filter = constant_filter.transform(X_train)\n",
    "X_test_filter = constant_filter.transform(X_test)"
   ]
  },
  {
   "cell_type": "code",
   "execution_count": 7,
   "metadata": {},
   "outputs": [],
   "source": [
    "X_train_T = X_train_filter.T\n",
    "X_test_T = X_test_filter.T"
   ]
  },
  {
   "cell_type": "code",
   "execution_count": 8,
   "metadata": {},
   "outputs": [],
   "source": [
    "\n",
    "X_train_T = pd.DataFrame(X_train_T)\n",
    "X_test_T = pd.DataFrame(X_test_T)"
   ]
  },
  {
   "cell_type": "code",
   "execution_count": 9,
   "metadata": {},
   "outputs": [
    {
     "data": {
      "text/plain": [
       "18"
      ]
     },
     "execution_count": 9,
     "metadata": {},
     "output_type": "execute_result"
    }
   ],
   "source": [
    "X_train_T.duplicated().sum()"
   ]
  },
  {
   "cell_type": "code",
   "execution_count": 10,
   "metadata": {},
   "outputs": [],
   "source": [
    "duplicated_features = X_train_T.duplicated()\n",
    "features_to_keep = [not index for index in duplicated_features]\n"
   ]
  },
  {
   "cell_type": "code",
   "execution_count": 11,
   "metadata": {},
   "outputs": [],
   "source": [
    "X_train_unique = X_train_T[features_to_keep].T\n",
    "X_test_unique = X_test_T[features_to_keep].T"
   ]
  },
  {
   "cell_type": "code",
   "execution_count": 12,
   "metadata": {},
   "outputs": [
    {
     "data": {
      "text/plain": [
       "((16000, 227), (4000, 227))"
      ]
     },
     "execution_count": 12,
     "metadata": {},
     "output_type": "execute_result"
    }
   ],
   "source": [
    "X_train_unique.shape, X_test_unique.shape\n"
   ]
  },
  {
   "cell_type": "markdown",
   "metadata": {},
   "source": [
    "# Remove correlated feature"
   ]
  },
  {
   "cell_type": "code",
   "execution_count": 13,
   "metadata": {},
   "outputs": [],
   "source": [
    "corrmat = X_train_unique.corr()"
   ]
  },
  {
   "cell_type": "code",
   "execution_count": 14,
   "metadata": {},
   "outputs": [
    {
     "data": {
      "text/plain": [
       "(227, 227)"
      ]
     },
     "execution_count": 14,
     "metadata": {},
     "output_type": "execute_result"
    }
   ],
   "source": [
    "corrmat.shape"
   ]
  },
  {
   "cell_type": "code",
   "execution_count": 15,
   "metadata": {},
   "outputs": [],
   "source": [
    "def get_correlation(data, threshold):\n",
    "    corr_col = set()\n",
    "    corrmat = data.corr()\n",
    "    for i in range(len(corrmat.columns)):\n",
    "        for j in range(i):\n",
    "            if abs(corrmat.iloc[i, j] > threshold):\n",
    "                colname = corrmat.columns[i]\n",
    "                corr_col.add(colname)\n",
    "    return corr_col"
   ]
  },
  {
   "cell_type": "code",
   "execution_count": 16,
   "metadata": {},
   "outputs": [
    {
     "name": "stdout",
     "output_type": "stream",
     "text": [
      "correlated features:  147\n"
     ]
    }
   ],
   "source": [
    "corr_features = get_correlation(X_train_unique, 0.70)\n",
    "print('correlated features: ', len(set(corr_features)))"
   ]
  },
  {
   "cell_type": "code",
   "execution_count": 17,
   "metadata": {},
   "outputs": [],
   "source": [
    "X_train_uncorr = X_train_unique.drop(labels=corr_features, axis=1)\n",
    "X_test_uncorr = X_test_unique.drop(labels=corr_features, axis=1)"
   ]
  },
  {
   "cell_type": "code",
   "execution_count": 18,
   "metadata": {},
   "outputs": [
    {
     "data": {
      "text/plain": [
       "((16000, 80), (4000, 80))"
      ]
     },
     "execution_count": 18,
     "metadata": {},
     "output_type": "execute_result"
    }
   ],
   "source": [
    "X_train_uncorr.shape, X_test_uncorr.shape"
   ]
  },
  {
   "cell_type": "markdown",
   "metadata": {},
   "source": [
    "# Feature Dimension Reduction with LDA"
   ]
  },
  {
   "cell_type": "code",
   "execution_count": 19,
   "metadata": {},
   "outputs": [],
   "source": [
    "from sklearn.discriminant_analysis import LinearDiscriminantAnalysis as LDA"
   ]
  },
  {
   "cell_type": "code",
   "execution_count": 20,
   "metadata": {},
   "outputs": [],
   "source": [
    "lda = LDA(n_components = 1)\n",
    "X_train_lda = lda.fit_transform(X_train_uncorr, y_train)"
   ]
  },
  {
   "cell_type": "code",
   "execution_count": 21,
   "metadata": {},
   "outputs": [
    {
     "data": {
      "text/plain": [
       "(16000, 1)"
      ]
     },
     "execution_count": 21,
     "metadata": {},
     "output_type": "execute_result"
    }
   ],
   "source": [
    "X_train_lda.shape"
   ]
  },
  {
   "cell_type": "code",
   "execution_count": 22,
   "metadata": {},
   "outputs": [],
   "source": [
    "X_test_lda = lda.transform(X_test_uncorr)"
   ]
  },
  {
   "cell_type": "code",
   "execution_count": 23,
   "metadata": {},
   "outputs": [],
   "source": [
    "def run_randomforest(X_train, X_test, y_train, y_test):\n",
    "    clf = RandomForestClassifier(n_estimators=100, random_state=0, n_jobs=-1)\n",
    "    clf.fit(X_train, y_train)\n",
    "    y_pred = clf.predict(X_test)\n",
    "    print(\"Acc on test set\")\n",
    "    print(accuracy_score(y_test, y_pred))"
   ]
  },
  {
   "cell_type": "code",
   "execution_count": 24,
   "metadata": {},
   "outputs": [
    {
     "name": "stdout",
     "output_type": "stream",
     "text": [
      "Acc on test set\n",
      "0.922\n",
      "CPU times: user 2.86 s, sys: 101 ms, total: 2.96 s\n",
      "Wall time: 670 ms\n"
     ]
    }
   ],
   "source": [
    "%%time\n",
    "run_randomforest(X_train_lda, X_test_lda, y_train, y_test)"
   ]
  },
  {
   "cell_type": "code",
   "execution_count": 25,
   "metadata": {},
   "outputs": [
    {
     "name": "stdout",
     "output_type": "stream",
     "text": [
      "Acc on test set\n",
      "0.9585\n",
      "CPU times: user 8.9 s, sys: 181 ms, total: 9.08 s\n",
      "Wall time: 1.66 s\n"
     ]
    }
   ],
   "source": [
    "%%time\n",
    "run_randomforest(X_train, X_test, y_train, y_test)"
   ]
  },
  {
   "cell_type": "markdown",
   "metadata": {},
   "source": [
    "# Feature reduction by PCA"
   ]
  },
  {
   "cell_type": "code",
   "execution_count": 32,
   "metadata": {},
   "outputs": [],
   "source": [
    "from sklearn.decomposition import PCA"
   ]
  },
  {
   "cell_type": "code",
   "execution_count": 33,
   "metadata": {},
   "outputs": [
    {
     "data": {
      "text/plain": [
       "PCA(copy=True, iterated_power='auto', n_components=3, random_state=42,\n",
       "    svd_solver='auto', tol=0.0, whiten=False)"
      ]
     },
     "execution_count": 33,
     "metadata": {},
     "output_type": "execute_result"
    }
   ],
   "source": [
    "pca = PCA(n_components=3, random_state=42)\n",
    "pca.fit(X_test_uncorr)"
   ]
  },
  {
   "cell_type": "code",
   "execution_count": 29,
   "metadata": {},
   "outputs": [],
   "source": [
    "X_train_pca = pca.transform(X_train_uncorr)\n",
    "X_test_pca = pca.transform(X_test_uncorr)"
   ]
  },
  {
   "cell_type": "code",
   "execution_count": 34,
   "metadata": {},
   "outputs": [
    {
     "data": {
      "text/plain": [
       "((16000, 3), (16000, 80))"
      ]
     },
     "execution_count": 34,
     "metadata": {},
     "output_type": "execute_result"
    }
   ],
   "source": [
    "X_train_pca.shape, X_train_uncorr.shape"
   ]
  },
  {
   "cell_type": "code",
   "execution_count": 36,
   "metadata": {},
   "outputs": [
    {
     "name": "stdout",
     "output_type": "stream",
     "text": [
      "Acc on test set\n",
      "0.95925\n",
      "CPU times: user 411 ms, sys: 85.8 ms, total: 497 ms\n",
      "Wall time: 371 ms\n"
     ]
    }
   ],
   "source": [
    "%%time\n",
    "run_randomforest(X_train_pca, X_test_pca, y_train, y_test)"
   ]
  },
  {
   "cell_type": "code",
   "execution_count": 37,
   "metadata": {},
   "outputs": [
    {
     "name": "stdout",
     "output_type": "stream",
     "text": [
      "Selected Comp 1\n",
      "Acc on test set\n",
      "0.95925\n",
      "\n",
      "Selected Comp 2\n",
      "Acc on test set\n",
      "0.95925\n",
      "\n",
      "Selected Comp 3\n",
      "Acc on test set\n",
      "0.95925\n",
      "\n",
      "Selected Comp 4\n",
      "Acc on test set\n",
      "0.959\n",
      "\n",
      "Selected Comp 5\n",
      "Acc on test set\n",
      "0.9585\n",
      "\n",
      "Selected Comp 6\n",
      "Acc on test set\n",
      "0.95875\n",
      "\n",
      "Selected Comp 7\n",
      "Acc on test set\n",
      "0.95825\n",
      "\n",
      "Selected Comp 8\n",
      "Acc on test set\n",
      "0.9195\n",
      "\n",
      "Selected Comp 9\n",
      "Acc on test set\n",
      "0.9535\n",
      "\n",
      "Selected Comp 10\n",
      "Acc on test set\n",
      "0.95625\n",
      "\n",
      "Selected Comp 11\n",
      "Acc on test set\n",
      "0.95575\n",
      "\n",
      "Selected Comp 12\n",
      "Acc on test set\n",
      "0.95625\n",
      "\n",
      "Selected Comp 13\n",
      "Acc on test set\n",
      "0.95625\n",
      "\n",
      "Selected Comp 14\n",
      "Acc on test set\n",
      "0.9565\n",
      "\n",
      "Selected Comp 15\n",
      "Acc on test set\n",
      "0.9565\n",
      "\n",
      "Selected Comp 16\n",
      "Acc on test set\n",
      "0.95675\n",
      "\n",
      "Selected Comp 17\n",
      "Acc on test set\n",
      "0.95675\n",
      "\n",
      "Selected Comp 18\n",
      "Acc on test set\n",
      "0.9575\n",
      "\n",
      "Selected Comp 19\n",
      "Acc on test set\n",
      "0.95725\n",
      "\n",
      "Selected Comp 20\n",
      "Acc on test set\n",
      "0.95675\n",
      "\n",
      "Selected Comp 21\n",
      "Acc on test set\n",
      "0.95725\n",
      "\n",
      "Selected Comp 22\n",
      "Acc on test set\n",
      "0.95775\n",
      "\n",
      "Selected Comp 23\n",
      "Acc on test set\n",
      "0.95725\n",
      "\n",
      "Selected Comp 24\n",
      "Acc on test set\n",
      "0.95725\n",
      "\n",
      "Selected Comp 25\n",
      "Acc on test set\n",
      "0.95725\n",
      "\n",
      "Selected Comp 26\n",
      "Acc on test set\n",
      "0.9575\n",
      "\n",
      "Selected Comp 27\n",
      "Acc on test set\n",
      "0.957\n",
      "\n",
      "Selected Comp 28\n",
      "Acc on test set\n",
      "0.9575\n",
      "\n",
      "Selected Comp 29\n",
      "Acc on test set\n",
      "0.9575\n",
      "\n",
      "Selected Comp 30\n",
      "Acc on test set\n",
      "0.957\n",
      "\n",
      "Selected Comp 31\n",
      "Acc on test set\n",
      "0.9575\n",
      "\n",
      "Selected Comp 32\n",
      "Acc on test set\n",
      "0.95825\n",
      "\n",
      "Selected Comp 33\n",
      "Acc on test set\n",
      "0.957\n",
      "\n",
      "Selected Comp 34\n",
      "Acc on test set\n",
      "0.95725\n",
      "\n",
      "Selected Comp 35\n",
      "Acc on test set\n",
      "0.95775\n",
      "\n",
      "Selected Comp 36\n",
      "Acc on test set\n",
      "0.95775\n",
      "\n",
      "Selected Comp 37\n",
      "Acc on test set\n",
      "0.95725\n",
      "\n",
      "Selected Comp 38\n",
      "Acc on test set\n",
      "0.9575\n",
      "\n",
      "Selected Comp 39\n",
      "Acc on test set\n",
      "0.9575\n",
      "\n",
      "Selected Comp 40\n",
      "Acc on test set\n",
      "0.958\n",
      "\n",
      "Selected Comp 41\n",
      "Acc on test set\n",
      "0.95775\n",
      "\n",
      "Selected Comp 42\n",
      "Acc on test set\n",
      "0.95825\n",
      "\n",
      "Selected Comp 43\n",
      "Acc on test set\n",
      "0.959\n",
      "\n",
      "Selected Comp 44\n",
      "Acc on test set\n",
      "0.959\n",
      "\n",
      "Selected Comp 45\n",
      "Acc on test set\n",
      "0.9585\n",
      "\n",
      "Selected Comp 46\n",
      "Acc on test set\n",
      "0.95875\n",
      "\n",
      "Selected Comp 47\n",
      "Acc on test set\n",
      "0.9585\n",
      "\n",
      "Selected Comp 48\n",
      "Acc on test set\n",
      "0.958\n",
      "\n",
      "Selected Comp 49\n",
      "Acc on test set\n",
      "0.95825\n",
      "\n",
      "Selected Comp 50\n",
      "Acc on test set\n",
      "0.95775\n",
      "\n",
      "Selected Comp 51\n",
      "Acc on test set\n",
      "0.95825\n",
      "\n",
      "Selected Comp 52\n",
      "Acc on test set\n",
      "0.95725\n",
      "\n",
      "Selected Comp 53\n",
      "Acc on test set\n",
      "0.95775\n",
      "\n",
      "Selected Comp 54\n",
      "Acc on test set\n",
      "0.9575\n",
      "\n",
      "Selected Comp 55\n",
      "Acc on test set\n",
      "0.95825\n",
      "\n",
      "Selected Comp 56\n",
      "Acc on test set\n",
      "0.9575\n",
      "\n",
      "Selected Comp 57\n",
      "Acc on test set\n",
      "0.95775\n",
      "\n",
      "Selected Comp 58\n",
      "Acc on test set\n",
      "0.95775\n",
      "\n",
      "Selected Comp 59\n",
      "Acc on test set\n",
      "0.9585\n",
      "\n",
      "Selected Comp 60\n",
      "Acc on test set\n",
      "0.95825\n",
      "\n",
      "Selected Comp 61\n",
      "Acc on test set\n",
      "0.95725\n",
      "\n",
      "Selected Comp 62\n",
      "Acc on test set\n",
      "0.95825\n",
      "\n",
      "Selected Comp 63\n",
      "Acc on test set\n",
      "0.9575\n",
      "\n",
      "Selected Comp 64\n",
      "Acc on test set\n",
      "0.95775\n",
      "\n",
      "Selected Comp 65\n",
      "Acc on test set\n",
      "0.95825\n",
      "\n",
      "Selected Comp 66\n",
      "Acc on test set\n",
      "0.95775\n",
      "\n",
      "Selected Comp 67\n",
      "Acc on test set\n",
      "0.95825\n",
      "\n",
      "Selected Comp 68\n",
      "Acc on test set\n",
      "0.95775\n",
      "\n",
      "Selected Comp 69\n",
      "Acc on test set\n",
      "0.95775\n",
      "\n",
      "Selected Comp 70\n",
      "Acc on test set\n",
      "0.95725\n",
      "\n",
      "Selected Comp 71\n",
      "Acc on test set\n",
      "0.957\n",
      "\n",
      "Selected Comp 72\n",
      "Acc on test set\n",
      "0.95725\n",
      "\n",
      "Selected Comp 73\n",
      "Acc on test set\n",
      "0.95775\n",
      "\n",
      "Selected Comp 74\n",
      "Acc on test set\n",
      "0.9575\n",
      "\n",
      "Selected Comp 75\n",
      "Acc on test set\n",
      "0.958\n",
      "\n",
      "Selected Comp 76\n",
      "Acc on test set\n",
      "0.9575\n",
      "\n",
      "Selected Comp 77\n",
      "Acc on test set\n",
      "0.957\n",
      "\n",
      "Selected Comp 78\n",
      "Acc on test set\n",
      "0.95725\n",
      "\n"
     ]
    }
   ],
   "source": [
    "for component in range (1, 79):\n",
    "    pca = PCA(n_components=component, random_state=42)\n",
    "    pca.fit(X_test_uncorr)\n",
    "    X_train_pca = pca.transform(X_train_uncorr)\n",
    "    X_test_pca = pca.transform(X_test_uncorr)\n",
    "    print('Selected Comp', component)\n",
    "    run_randomforest(X_train_pca, X_test_pca, y_train, y_test)\n",
    "    print()"
   ]
  },
  {
   "cell_type": "code",
   "execution_count": null,
   "metadata": {},
   "outputs": [],
   "source": []
  }
 ],
 "metadata": {
  "kernelspec": {
   "display_name": "Python 3",
   "language": "python",
   "name": "python3"
  },
  "language_info": {
   "codemirror_mode": {
    "name": "ipython",
    "version": 3
   },
   "file_extension": ".py",
   "mimetype": "text/x-python",
   "name": "python",
   "nbconvert_exporter": "python",
   "pygments_lexer": "ipython3",
   "version": "3.7.6"
  }
 },
 "nbformat": 4,
 "nbformat_minor": 4
}
